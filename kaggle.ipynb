{
  "nbformat": 4,
  "nbformat_minor": 0,
  "metadata": {
    "colab": {
      "name": "kaggle.ipynb",
      "provenance": [],
      "collapsed_sections": [
        "Lezgk5ACrVup",
        "1aJLBUALq6AY",
        "x2Aj2mHLqiPJ",
        "_42-E8LnqBwL",
        "gGkaUeLfpZts",
        "GQ2H3DeWpFJ_",
        "1sVLZ7TEpOij",
        "_S20sfljoyvT",
        "mxIKqtTaosbi",
        "AsGiPpxooesr",
        "3DRg2Mj3sUw4",
        "p5ZcF2cutoLm",
        "2kihJ8zuuRCf",
        "__W7SsioulT6",
        "tJRWSHaTu93e"
      ],
      "toc_visible": true,
      "authorship_tag": "ABX9TyN2l5MG0rkmXMjW1A4hWbD+",
      "include_colab_link": true
    },
    "kernelspec": {
      "display_name": "Python 3",
      "name": "python3"
    }
  },
  "cells": [
    {
      "cell_type": "markdown",
      "metadata": {
        "id": "view-in-github",
        "colab_type": "text"
      },
      "source": [
        "<a href=\"https://colab.research.google.com/github/GaryPython/question-survey-/blob/main/kaggle.ipynb\" target=\"_parent\"><img src=\"https://colab.research.google.com/assets/colab-badge.svg\" alt=\"Open In Colab\"/></a>"
      ]
    },
    {
      "cell_type": "markdown",
      "metadata": {
        "id": "zvfd3q8jqRHi"
      },
      "source": [
        ""
      ]
    },
    {
      "cell_type": "code",
      "metadata": {
        "colab": {
          "base_uri": "https://localhost:8080/"
        },
        "id": "HQoFFI2S0lvA",
        "outputId": "1eac38dc-f86d-4e9f-d10f-14e3a43bffd5"
      },
      "source": [
        "!ls"
      ],
      "execution_count": null,
      "outputs": [
        {
          "output_type": "stream",
          "text": [
            "sample_data\n"
          ],
          "name": "stdout"
        }
      ]
    },
    {
      "cell_type": "markdown",
      "metadata": {
        "id": "Lezgk5ACrVup"
      },
      "source": [
        "###**上傳**"
      ]
    },
    {
      "cell_type": "code",
      "metadata": {
        "colab": {
          "background_save": true,
          "resources": {
            "http://localhost:8080/nbextensions/google.colab/files.js": {
              "data": "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",
              "headers": [
                [
                  "content-type",
                  "application/javascript"
                ]
              ],
              "ok": true,
              "status": 200,
              "status_text": ""
            }
          },
          "base_uri": "https://localhost:8080/",
          "height": 42
        },
        "id": "l8dsWXld0xvF",
        "outputId": "a2cc9646-60eb-4704-a901-5be9841fbc96"
      },
      "source": [
        "from google.colab import files\n",
        "uploaded = files.upload()#上傳"
      ],
      "execution_count": null,
      "outputs": [
        {
          "output_type": "display_data",
          "data": {
            "text/html": [
              "\n",
              "     <input type=\"file\" id=\"files-ea89cc8e-51ad-4c97-8bdf-c32ca43e92c7\" name=\"files[]\" multiple disabled\n",
              "        style=\"border:none\" />\n",
              "     <output id=\"result-ea89cc8e-51ad-4c97-8bdf-c32ca43e92c7\">\n",
              "      Upload widget is only available when the cell has been executed in the\n",
              "      current browser session. Please rerun this cell to enable.\n",
              "      </output>\n",
              "      <script src=\"/nbextensions/google.colab/files.js\"></script> "
            ],
            "text/plain": [
              "<IPython.core.display.HTML object>"
            ]
          },
          "metadata": {
            "tags": []
          }
        },
        {
          "output_type": "error",
          "ename": "TypeError",
          "evalue": "ignored",
          "traceback": [
            "\u001b[0;31m---------------------------------------------------------------------------\u001b[0m",
            "\u001b[0;31mTypeError\u001b[0m                                 Traceback (most recent call last)",
            "\u001b[0;32m<ipython-input-1-69d3711a4d81>\u001b[0m in \u001b[0;36m<module>\u001b[0;34m()\u001b[0m\n\u001b[1;32m      1\u001b[0m \u001b[0;32mfrom\u001b[0m \u001b[0mgoogle\u001b[0m\u001b[0;34m.\u001b[0m\u001b[0mcolab\u001b[0m \u001b[0;32mimport\u001b[0m \u001b[0mfiles\u001b[0m\u001b[0;34m\u001b[0m\u001b[0;34m\u001b[0m\u001b[0m\n\u001b[0;32m----> 2\u001b[0;31m \u001b[0muploaded\u001b[0m \u001b[0;34m=\u001b[0m \u001b[0mfiles\u001b[0m\u001b[0;34m.\u001b[0m\u001b[0mupload\u001b[0m\u001b[0;34m(\u001b[0m\u001b[0;34m)\u001b[0m\u001b[0;31m#上傳\u001b[0m\u001b[0;34m\u001b[0m\u001b[0;34m\u001b[0m\u001b[0m\n\u001b[0m",
            "\u001b[0;32m/usr/local/lib/python3.6/dist-packages/google/colab/files.py\u001b[0m in \u001b[0;36mupload\u001b[0;34m()\u001b[0m\n\u001b[1;32m     67\u001b[0m   \u001b[0mlocal_filenames\u001b[0m \u001b[0;34m=\u001b[0m \u001b[0mdict\u001b[0m\u001b[0;34m(\u001b[0m\u001b[0;34m)\u001b[0m\u001b[0;34m\u001b[0m\u001b[0;34m\u001b[0m\u001b[0m\n\u001b[1;32m     68\u001b[0m \u001b[0;34m\u001b[0m\u001b[0m\n\u001b[0;32m---> 69\u001b[0;31m   \u001b[0;32mwhile\u001b[0m \u001b[0mresult\u001b[0m\u001b[0;34m[\u001b[0m\u001b[0;34m'action'\u001b[0m\u001b[0;34m]\u001b[0m \u001b[0;34m!=\u001b[0m \u001b[0;34m'complete'\u001b[0m\u001b[0;34m:\u001b[0m\u001b[0;34m\u001b[0m\u001b[0;34m\u001b[0m\u001b[0m\n\u001b[0m\u001b[1;32m     70\u001b[0m     result = _output.eval_js(\n\u001b[1;32m     71\u001b[0m         'google.colab._files._uploadFilesContinue(\"{output_id}\")'.format(\n",
            "\u001b[0;31mTypeError\u001b[0m: 'NoneType' object is not subscriptable"
          ]
        }
      ]
    },
    {
      "cell_type": "markdown",
      "metadata": {
        "id": "1aJLBUALq6AY"
      },
      "source": [
        "### 目錄"
      ]
    },
    {
      "cell_type": "code",
      "metadata": {
        "colab": {
          "base_uri": "https://localhost:8080/"
        },
        "id": "gFyp6xxa0_Vo",
        "outputId": "81090390-c2d3-4fbb-8026-d07dc73c1685"
      },
      "source": [
        "!ls"
      ],
      "execution_count": null,
      "outputs": [
        {
          "output_type": "stream",
          "text": [
            "kaggle.zip  sample_data\n"
          ],
          "name": "stdout"
        }
      ]
    },
    {
      "cell_type": "markdown",
      "metadata": {
        "id": "x2Aj2mHLqiPJ"
      },
      "source": [
        "### **解壓縮**"
      ]
    },
    {
      "cell_type": "code",
      "metadata": {
        "colab": {
          "base_uri": "https://localhost:8080/"
        },
        "id": "CHLpKbh2Q8iy",
        "outputId": "e0de2895-d3b1-4405-db47-13c8d8e2df2c"
      },
      "source": [
        "!unzip kaggle.zip"
      ],
      "execution_count": null,
      "outputs": [
        {
          "output_type": "stream",
          "text": [
            "Archive:  kaggle.zip\n",
            "   creating: kaggle-survey-2017/\n",
            "  inflating: __MACOSX/._kaggle-survey-2017  \n",
            "  inflating: kaggle-survey-2017/conversionRates.csv  \n",
            "  inflating: __MACOSX/kaggle-survey-2017/._conversionRates.csv  \n",
            "  inflating: kaggle-survey-2017/schema.csv  \n",
            "  inflating: __MACOSX/kaggle-survey-2017/._schema.csv  \n",
            "  inflating: kaggle-survey-2017/multipleChoiceResponses.csv  \n",
            "  inflating: __MACOSX/kaggle-survey-2017/._multipleChoiceResponses.csv  \n",
            "  inflating: kaggle-survey-2017/freeformResponses.csv  \n",
            "  inflating: __MACOSX/kaggle-survey-2017/._freeformResponses.csv  \n",
            "  inflating: kaggle-survey-2017/RespondentTypeREADME.txt  \n",
            "  inflating: __MACOSX/kaggle-survey-2017/._RespondentTypeREADME.txt  \n",
            "   creating: kaggle-survey-2018/\n",
            "  inflating: __MACOSX/._kaggle-survey-2018  \n",
            "  inflating: kaggle-survey-2018/multipleChoiceResponses.csv  \n",
            "  inflating: __MACOSX/kaggle-survey-2018/._multipleChoiceResponses.csv  \n",
            "  inflating: kaggle-survey-2018/freeFormResponses.csv  \n",
            "  inflating: __MACOSX/kaggle-survey-2018/._freeFormResponses.csv  \n",
            "  inflating: kaggle-survey-2018/SurveySchema.csv  \n",
            "  inflating: __MACOSX/kaggle-survey-2018/._SurveySchema.csv  \n",
            "   creating: kaggle-survey-2019/\n",
            "  inflating: __MACOSX/._kaggle-survey-2019  \n",
            "  inflating: kaggle-survey-2019/survey_schema.csv  \n",
            "  inflating: __MACOSX/kaggle-survey-2019/._survey_schema.csv  \n",
            "  inflating: kaggle-survey-2019/other_text_responses.csv  \n",
            "  inflating: __MACOSX/kaggle-survey-2019/._other_text_responses.csv  \n",
            "  inflating: kaggle-survey-2019/questions_only.csv  \n",
            "  inflating: __MACOSX/kaggle-survey-2019/._questions_only.csv  \n",
            "  inflating: kaggle-survey-2019/multiple_choice_responses.csv  \n",
            "  inflating: __MACOSX/kaggle-survey-2019/._multiple_choice_responses.csv  \n"
          ],
          "name": "stdout"
        }
      ]
    },
    {
      "cell_type": "markdown",
      "metadata": {
        "id": "_42-E8LnqBwL"
      },
      "source": [
        "### **寫入**"
      ]
    },
    {
      "cell_type": "code",
      "metadata": {
        "id": "dk2Qfso_RNau"
      },
      "source": [
        "import pandas as pd\n",
        "\n",
        "question_2017 = pd.read_csv('kaggle-survey-2017/schema.csv')\n",
        "question_2018 = pd.read_csv('kaggle-survey-2018/SurveySchema.csv')\n",
        "question_2019 = pd.read_csv('kaggle-survey-2019/questions_only.csv')"
      ],
      "execution_count": null,
      "outputs": []
    },
    {
      "cell_type": "code",
      "metadata": {
        "colab": {
          "base_uri": "https://localhost:8080/"
        },
        "id": "lxYjNKzjR4PO",
        "outputId": "0c1bcdb2-06b4-4592-c7ee-701b644e3057"
      },
      "source": [
        "print(question_2017.shape)\n",
        "print(question_2018.shape)\n",
        "print(question_2019.shape)"
      ],
      "execution_count": null,
      "outputs": [
        {
          "output_type": "stream",
          "text": [
            "(290, 3)\n",
            "(12, 52)\n",
            "(1, 35)\n"
          ],
          "name": "stdout"
        }
      ]
    },
    {
      "cell_type": "code",
      "metadata": {
        "colab": {
          "base_uri": "https://localhost:8080/"
        },
        "id": "1bgqczk8TED8",
        "outputId": "f770b55f-00d4-400c-be9d-f5a5af9fa019"
      },
      "source": [
        "!ls"
      ],
      "execution_count": null,
      "outputs": [
        {
          "output_type": "stream",
          "text": [
            "kaggle-survey-2017  kaggle-survey-2019\t__MACOSX\n",
            "kaggle-survey-2018  kaggle.zip\t\tsample_data\n"
          ],
          "name": "stdout"
        }
      ]
    },
    {
      "cell_type": "markdown",
      "metadata": {
        "id": "gGkaUeLfpZts"
      },
      "source": [
        "###**寫入**"
      ]
    },
    {
      "cell_type": "code",
      "metadata": {
        "id": "ZOvzdD-tHUzQ"
      },
      "source": [
        "import pandas as pd\n",
        "\n",
        "survey_2017 = pd.read_csv('kaggle-survey-2017/multipleChoiceResponses.csv', encoding='ISO-8859-1',low_memory=False)\n",
        "survey_2018 = pd.read_csv('kaggle-survey-2018/multipleChoiceResponses.csv', encoding='ISO-8859-1', skiprows=[1],low_memory=False)\n",
        "survey_2019 = pd.read_csv('kaggle-survey-2019/multiple_choice_responses.csv', encoding='ISO-8859-1', skiprows=[1],low_memory=False)"
      ],
      "execution_count": null,
      "outputs": []
    },
    {
      "cell_type": "markdown",
      "metadata": {
        "id": "GQ2H3DeWpFJ_"
      },
      "source": [
        "###**外觀**"
      ]
    },
    {
      "cell_type": "code",
      "metadata": {
        "colab": {
          "base_uri": "https://localhost:8080/"
        },
        "id": "0T-FhiPGRDl5",
        "outputId": "094c75b3-01d8-4690-d799-1431c078d584"
      },
      "source": [
        "survey_2017.head()"
      ],
      "execution_count": null,
      "outputs": [
        {
          "output_type": "execute_result",
          "data": {
            "text/html": [
              "<div>\n",
              "<style scoped>\n",
              "    .dataframe tbody tr th:only-of-type {\n",
              "        vertical-align: middle;\n",
              "    }\n",
              "\n",
              "    .dataframe tbody tr th {\n",
              "        vertical-align: top;\n",
              "    }\n",
              "\n",
              "    .dataframe thead th {\n",
              "        text-align: right;\n",
              "    }\n",
              "</style>\n",
              "<table border=\"1\" class=\"dataframe\">\n",
              "  <thead>\n",
              "    <tr style=\"text-align: right;\">\n",
              "      <th></th>\n",
              "      <th>GenderSelect</th>\n",
              "      <th>Country</th>\n",
              "      <th>Age</th>\n",
              "      <th>EmploymentStatus</th>\n",
              "      <th>StudentStatus</th>\n",
              "      <th>LearningDataScience</th>\n",
              "      <th>CodeWriter</th>\n",
              "      <th>CareerSwitcher</th>\n",
              "      <th>CurrentJobTitleSelect</th>\n",
              "      <th>TitleFit</th>\n",
              "      <th>CurrentEmployerType</th>\n",
              "      <th>MLToolNextYearSelect</th>\n",
              "      <th>MLMethodNextYearSelect</th>\n",
              "      <th>LanguageRecommendationSelect</th>\n",
              "      <th>PublicDatasetsSelect</th>\n",
              "      <th>LearningPlatformSelect</th>\n",
              "      <th>LearningPlatformUsefulnessArxiv</th>\n",
              "      <th>LearningPlatformUsefulnessBlogs</th>\n",
              "      <th>LearningPlatformUsefulnessCollege</th>\n",
              "      <th>LearningPlatformUsefulnessCompany</th>\n",
              "      <th>LearningPlatformUsefulnessConferences</th>\n",
              "      <th>LearningPlatformUsefulnessFriends</th>\n",
              "      <th>LearningPlatformUsefulnessKaggle</th>\n",
              "      <th>LearningPlatformUsefulnessNewsletters</th>\n",
              "      <th>LearningPlatformUsefulnessCommunities</th>\n",
              "      <th>LearningPlatformUsefulnessDocumentation</th>\n",
              "      <th>LearningPlatformUsefulnessCourses</th>\n",
              "      <th>LearningPlatformUsefulnessProjects</th>\n",
              "      <th>LearningPlatformUsefulnessPodcasts</th>\n",
              "      <th>LearningPlatformUsefulnessSO</th>\n",
              "      <th>LearningPlatformUsefulnessTextbook</th>\n",
              "      <th>LearningPlatformUsefulnessTradeBook</th>\n",
              "      <th>LearningPlatformUsefulnessTutoring</th>\n",
              "      <th>LearningPlatformUsefulnessYouTube</th>\n",
              "      <th>BlogsPodcastsNewslettersSelect</th>\n",
              "      <th>LearningDataScienceTime</th>\n",
              "      <th>JobSkillImportanceBigData</th>\n",
              "      <th>JobSkillImportanceDegree</th>\n",
              "      <th>JobSkillImportanceStats</th>\n",
              "      <th>JobSkillImportanceEnterpriseTools</th>\n",
              "      <th>...</th>\n",
              "      <th>WorkChallengeFrequencyITCoordination</th>\n",
              "      <th>WorkChallengeFrequencyHiringFunds</th>\n",
              "      <th>WorkChallengeFrequencyPrivacy</th>\n",
              "      <th>WorkChallengeFrequencyScaling</th>\n",
              "      <th>WorkChallengeFrequencyEnvironments</th>\n",
              "      <th>WorkChallengeFrequencyClarity</th>\n",
              "      <th>WorkChallengeFrequencyDataAccess</th>\n",
              "      <th>WorkChallengeFrequencyOtherSelect</th>\n",
              "      <th>WorkDataVisualizations</th>\n",
              "      <th>WorkInternalVsExternalTools</th>\n",
              "      <th>WorkMLTeamSeatSelect</th>\n",
              "      <th>WorkDatasets</th>\n",
              "      <th>WorkDatasetsChallenge</th>\n",
              "      <th>WorkDataStorage</th>\n",
              "      <th>WorkDataSharing</th>\n",
              "      <th>WorkDataSourcing</th>\n",
              "      <th>WorkCodeSharing</th>\n",
              "      <th>RemoteWork</th>\n",
              "      <th>CompensationAmount</th>\n",
              "      <th>CompensationCurrency</th>\n",
              "      <th>SalaryChange</th>\n",
              "      <th>JobSatisfaction</th>\n",
              "      <th>JobSearchResource</th>\n",
              "      <th>JobHuntTime</th>\n",
              "      <th>JobFactorLearning</th>\n",
              "      <th>JobFactorSalary</th>\n",
              "      <th>JobFactorOffice</th>\n",
              "      <th>JobFactorLanguages</th>\n",
              "      <th>JobFactorCommute</th>\n",
              "      <th>JobFactorManagement</th>\n",
              "      <th>JobFactorExperienceLevel</th>\n",
              "      <th>JobFactorDepartment</th>\n",
              "      <th>JobFactorTitle</th>\n",
              "      <th>JobFactorCompanyFunding</th>\n",
              "      <th>JobFactorImpact</th>\n",
              "      <th>JobFactorRemote</th>\n",
              "      <th>JobFactorIndustry</th>\n",
              "      <th>JobFactorLeaderReputation</th>\n",
              "      <th>JobFactorDiversity</th>\n",
              "      <th>JobFactorPublishingOpportunity</th>\n",
              "    </tr>\n",
              "  </thead>\n",
              "  <tbody>\n",
              "    <tr>\n",
              "      <th>0</th>\n",
              "      <td>Non-binary, genderqueer, or gender non-conforming</td>\n",
              "      <td>NaN</td>\n",
              "      <td>NaN</td>\n",
              "      <td>Employed full-time</td>\n",
              "      <td>NaN</td>\n",
              "      <td>NaN</td>\n",
              "      <td>Yes</td>\n",
              "      <td>NaN</td>\n",
              "      <td>DBA/Database Engineer</td>\n",
              "      <td>Fine</td>\n",
              "      <td>Employed by a company that doesn't perform adv...</td>\n",
              "      <td>SAS Base</td>\n",
              "      <td>Random Forests</td>\n",
              "      <td>F#</td>\n",
              "      <td>Dataset aggregator/platform (i.e. Socrata/Kagg...</td>\n",
              "      <td>College/University,Conferences,Podcasts,Trade ...</td>\n",
              "      <td>NaN</td>\n",
              "      <td>NaN</td>\n",
              "      <td>NaN</td>\n",
              "      <td>NaN</td>\n",
              "      <td>Very useful</td>\n",
              "      <td>NaN</td>\n",
              "      <td>NaN</td>\n",
              "      <td>NaN</td>\n",
              "      <td>NaN</td>\n",
              "      <td>NaN</td>\n",
              "      <td>NaN</td>\n",
              "      <td>NaN</td>\n",
              "      <td>Very useful</td>\n",
              "      <td>NaN</td>\n",
              "      <td>NaN</td>\n",
              "      <td>Somewhat useful</td>\n",
              "      <td>NaN</td>\n",
              "      <td>NaN</td>\n",
              "      <td>Becoming a Data Scientist Podcast,Data Machina...</td>\n",
              "      <td>NaN</td>\n",
              "      <td>NaN</td>\n",
              "      <td>NaN</td>\n",
              "      <td>NaN</td>\n",
              "      <td>NaN</td>\n",
              "      <td>...</td>\n",
              "      <td>NaN</td>\n",
              "      <td>NaN</td>\n",
              "      <td>Often</td>\n",
              "      <td>Most of the time</td>\n",
              "      <td>NaN</td>\n",
              "      <td>NaN</td>\n",
              "      <td>NaN</td>\n",
              "      <td>NaN</td>\n",
              "      <td>26-50% of projects</td>\n",
              "      <td>Do not know</td>\n",
              "      <td>Standalone Team</td>\n",
              "      <td>NaN</td>\n",
              "      <td>NaN</td>\n",
              "      <td>Document-oriented (e.g. MongoDB/Elasticsearch)...</td>\n",
              "      <td>Company Developed Platform,I don't typically s...</td>\n",
              "      <td>NaN</td>\n",
              "      <td>Mercurial,Subversion,Other</td>\n",
              "      <td>Always</td>\n",
              "      <td>NaN</td>\n",
              "      <td>NaN</td>\n",
              "      <td>I am not currently employed</td>\n",
              "      <td>5</td>\n",
              "      <td>NaN</td>\n",
              "      <td>NaN</td>\n",
              "      <td>NaN</td>\n",
              "      <td>NaN</td>\n",
              "      <td>NaN</td>\n",
              "      <td>NaN</td>\n",
              "      <td>NaN</td>\n",
              "      <td>NaN</td>\n",
              "      <td>NaN</td>\n",
              "      <td>NaN</td>\n",
              "      <td>NaN</td>\n",
              "      <td>NaN</td>\n",
              "      <td>NaN</td>\n",
              "      <td>NaN</td>\n",
              "      <td>NaN</td>\n",
              "      <td>NaN</td>\n",
              "      <td>NaN</td>\n",
              "      <td>NaN</td>\n",
              "    </tr>\n",
              "    <tr>\n",
              "      <th>1</th>\n",
              "      <td>Female</td>\n",
              "      <td>United States</td>\n",
              "      <td>30.0</td>\n",
              "      <td>Not employed, but looking for work</td>\n",
              "      <td>NaN</td>\n",
              "      <td>NaN</td>\n",
              "      <td>NaN</td>\n",
              "      <td>NaN</td>\n",
              "      <td>NaN</td>\n",
              "      <td>NaN</td>\n",
              "      <td>NaN</td>\n",
              "      <td>Python</td>\n",
              "      <td>Random Forests</td>\n",
              "      <td>Python</td>\n",
              "      <td>Dataset aggregator/platform (i.e. Socrata/Kagg...</td>\n",
              "      <td>Kaggle</td>\n",
              "      <td>NaN</td>\n",
              "      <td>NaN</td>\n",
              "      <td>NaN</td>\n",
              "      <td>NaN</td>\n",
              "      <td>NaN</td>\n",
              "      <td>NaN</td>\n",
              "      <td>Somewhat useful</td>\n",
              "      <td>NaN</td>\n",
              "      <td>NaN</td>\n",
              "      <td>NaN</td>\n",
              "      <td>NaN</td>\n",
              "      <td>NaN</td>\n",
              "      <td>NaN</td>\n",
              "      <td>NaN</td>\n",
              "      <td>NaN</td>\n",
              "      <td>NaN</td>\n",
              "      <td>NaN</td>\n",
              "      <td>NaN</td>\n",
              "      <td>Becoming a Data Scientist Podcast,Siraj Raval ...</td>\n",
              "      <td>1-2 years</td>\n",
              "      <td>NaN</td>\n",
              "      <td>Nice to have</td>\n",
              "      <td>Unnecessary</td>\n",
              "      <td>NaN</td>\n",
              "      <td>...</td>\n",
              "      <td>NaN</td>\n",
              "      <td>NaN</td>\n",
              "      <td>NaN</td>\n",
              "      <td>NaN</td>\n",
              "      <td>NaN</td>\n",
              "      <td>NaN</td>\n",
              "      <td>NaN</td>\n",
              "      <td>NaN</td>\n",
              "      <td>NaN</td>\n",
              "      <td>NaN</td>\n",
              "      <td>NaN</td>\n",
              "      <td>NaN</td>\n",
              "      <td>NaN</td>\n",
              "      <td>NaN</td>\n",
              "      <td>NaN</td>\n",
              "      <td>NaN</td>\n",
              "      <td>NaN</td>\n",
              "      <td>NaN</td>\n",
              "      <td>NaN</td>\n",
              "      <td>NaN</td>\n",
              "      <td>NaN</td>\n",
              "      <td>NaN</td>\n",
              "      <td>NaN</td>\n",
              "      <td>NaN</td>\n",
              "      <td>NaN</td>\n",
              "      <td>NaN</td>\n",
              "      <td>NaN</td>\n",
              "      <td>NaN</td>\n",
              "      <td>NaN</td>\n",
              "      <td>NaN</td>\n",
              "      <td>NaN</td>\n",
              "      <td>NaN</td>\n",
              "      <td>NaN</td>\n",
              "      <td>NaN</td>\n",
              "      <td>NaN</td>\n",
              "      <td>NaN</td>\n",
              "      <td>NaN</td>\n",
              "      <td>Somewhat important</td>\n",
              "      <td>NaN</td>\n",
              "      <td>NaN</td>\n",
              "    </tr>\n",
              "    <tr>\n",
              "      <th>2</th>\n",
              "      <td>Male</td>\n",
              "      <td>Canada</td>\n",
              "      <td>28.0</td>\n",
              "      <td>Not employed, but looking for work</td>\n",
              "      <td>NaN</td>\n",
              "      <td>NaN</td>\n",
              "      <td>NaN</td>\n",
              "      <td>NaN</td>\n",
              "      <td>NaN</td>\n",
              "      <td>NaN</td>\n",
              "      <td>NaN</td>\n",
              "      <td>Amazon Web services</td>\n",
              "      <td>Deep learning</td>\n",
              "      <td>R</td>\n",
              "      <td>Dataset aggregator/platform (i.e. Socrata/Kagg...</td>\n",
              "      <td>Arxiv,College/University,Kaggle,Online courses...</td>\n",
              "      <td>Very useful</td>\n",
              "      <td>NaN</td>\n",
              "      <td>Somewhat useful</td>\n",
              "      <td>NaN</td>\n",
              "      <td>NaN</td>\n",
              "      <td>NaN</td>\n",
              "      <td>Somewhat useful</td>\n",
              "      <td>NaN</td>\n",
              "      <td>NaN</td>\n",
              "      <td>NaN</td>\n",
              "      <td>Very useful</td>\n",
              "      <td>NaN</td>\n",
              "      <td>NaN</td>\n",
              "      <td>NaN</td>\n",
              "      <td>NaN</td>\n",
              "      <td>NaN</td>\n",
              "      <td>NaN</td>\n",
              "      <td>Very useful</td>\n",
              "      <td>FastML Blog,No Free Hunch Blog,Talking Machine...</td>\n",
              "      <td>1-2 years</td>\n",
              "      <td>Necessary</td>\n",
              "      <td>NaN</td>\n",
              "      <td>NaN</td>\n",
              "      <td>NaN</td>\n",
              "      <td>...</td>\n",
              "      <td>NaN</td>\n",
              "      <td>NaN</td>\n",
              "      <td>NaN</td>\n",
              "      <td>NaN</td>\n",
              "      <td>NaN</td>\n",
              "      <td>NaN</td>\n",
              "      <td>NaN</td>\n",
              "      <td>NaN</td>\n",
              "      <td>NaN</td>\n",
              "      <td>NaN</td>\n",
              "      <td>NaN</td>\n",
              "      <td>NaN</td>\n",
              "      <td>NaN</td>\n",
              "      <td>NaN</td>\n",
              "      <td>NaN</td>\n",
              "      <td>NaN</td>\n",
              "      <td>NaN</td>\n",
              "      <td>NaN</td>\n",
              "      <td>NaN</td>\n",
              "      <td>NaN</td>\n",
              "      <td>NaN</td>\n",
              "      <td>NaN</td>\n",
              "      <td>Asking friends, family members, or former coll...</td>\n",
              "      <td>1-2</td>\n",
              "      <td>Very Important</td>\n",
              "      <td>Very Important</td>\n",
              "      <td>Very Important</td>\n",
              "      <td>Very Important</td>\n",
              "      <td>Very Important</td>\n",
              "      <td>Very Important</td>\n",
              "      <td>Very Important</td>\n",
              "      <td>Very Important</td>\n",
              "      <td>Very Important</td>\n",
              "      <td>Very Important</td>\n",
              "      <td>Very Important</td>\n",
              "      <td>Very Important</td>\n",
              "      <td>Very Important</td>\n",
              "      <td>Very Important</td>\n",
              "      <td>Very Important</td>\n",
              "      <td>Very Important</td>\n",
              "    </tr>\n",
              "    <tr>\n",
              "      <th>3</th>\n",
              "      <td>Male</td>\n",
              "      <td>United States</td>\n",
              "      <td>56.0</td>\n",
              "      <td>Independent contractor, freelancer, or self-em...</td>\n",
              "      <td>NaN</td>\n",
              "      <td>NaN</td>\n",
              "      <td>Yes</td>\n",
              "      <td>NaN</td>\n",
              "      <td>Operations Research Practitioner</td>\n",
              "      <td>Poorly</td>\n",
              "      <td>Self-employed</td>\n",
              "      <td>TensorFlow</td>\n",
              "      <td>Neural Nets</td>\n",
              "      <td>Python</td>\n",
              "      <td>I collect my own data (e.g. web-scraping)</td>\n",
              "      <td>Blogs,College/University,Conferences,Friends n...</td>\n",
              "      <td>NaN</td>\n",
              "      <td>Very useful</td>\n",
              "      <td>Very useful</td>\n",
              "      <td>NaN</td>\n",
              "      <td>Very useful</td>\n",
              "      <td>Very useful</td>\n",
              "      <td>NaN</td>\n",
              "      <td>NaN</td>\n",
              "      <td>NaN</td>\n",
              "      <td>Very useful</td>\n",
              "      <td>Very useful</td>\n",
              "      <td>Very useful</td>\n",
              "      <td>NaN</td>\n",
              "      <td>NaN</td>\n",
              "      <td>NaN</td>\n",
              "      <td>NaN</td>\n",
              "      <td>NaN</td>\n",
              "      <td>NaN</td>\n",
              "      <td>KDnuggets Blog</td>\n",
              "      <td>NaN</td>\n",
              "      <td>NaN</td>\n",
              "      <td>NaN</td>\n",
              "      <td>NaN</td>\n",
              "      <td>NaN</td>\n",
              "      <td>...</td>\n",
              "      <td>NaN</td>\n",
              "      <td>Often</td>\n",
              "      <td>Often</td>\n",
              "      <td>Often</td>\n",
              "      <td>Often</td>\n",
              "      <td>Often</td>\n",
              "      <td>Often</td>\n",
              "      <td>NaN</td>\n",
              "      <td>100% of projects</td>\n",
              "      <td>Entirely internal</td>\n",
              "      <td>Standalone Team</td>\n",
              "      <td>Electricity data sets from government and states</td>\n",
              "      <td>Everything is custom, there is never a tool th...</td>\n",
              "      <td>Column-oriented relational (e.g. KDB/MariaDB),...</td>\n",
              "      <td>Company Developed Platform,Email</td>\n",
              "      <td>NaN</td>\n",
              "      <td>Generic cloud file sharing software (Dropbox/B...</td>\n",
              "      <td>NaN</td>\n",
              "      <td>250,000</td>\n",
              "      <td>USD</td>\n",
              "      <td>Has increased 20% or more</td>\n",
              "      <td>10 - Highly Satisfied</td>\n",
              "      <td>NaN</td>\n",
              "      <td>NaN</td>\n",
              "      <td>NaN</td>\n",
              "      <td>NaN</td>\n",
              "      <td>NaN</td>\n",
              "      <td>NaN</td>\n",
              "      <td>NaN</td>\n",
              "      <td>NaN</td>\n",
              "      <td>NaN</td>\n",
              "      <td>NaN</td>\n",
              "      <td>NaN</td>\n",
              "      <td>NaN</td>\n",
              "      <td>NaN</td>\n",
              "      <td>NaN</td>\n",
              "      <td>NaN</td>\n",
              "      <td>NaN</td>\n",
              "      <td>NaN</td>\n",
              "      <td>NaN</td>\n",
              "    </tr>\n",
              "    <tr>\n",
              "      <th>4</th>\n",
              "      <td>Male</td>\n",
              "      <td>Taiwan</td>\n",
              "      <td>38.0</td>\n",
              "      <td>Employed full-time</td>\n",
              "      <td>NaN</td>\n",
              "      <td>NaN</td>\n",
              "      <td>Yes</td>\n",
              "      <td>NaN</td>\n",
              "      <td>Computer Scientist</td>\n",
              "      <td>Fine</td>\n",
              "      <td>Employed by a company that doesn't perform adv...</td>\n",
              "      <td>TensorFlow</td>\n",
              "      <td>Text Mining</td>\n",
              "      <td>Python</td>\n",
              "      <td>GitHub</td>\n",
              "      <td>Arxiv,Conferences,Kaggle,Textbook</td>\n",
              "      <td>Very useful</td>\n",
              "      <td>NaN</td>\n",
              "      <td>NaN</td>\n",
              "      <td>NaN</td>\n",
              "      <td>Somewhat useful</td>\n",
              "      <td>NaN</td>\n",
              "      <td>Somewhat useful</td>\n",
              "      <td>NaN</td>\n",
              "      <td>NaN</td>\n",
              "      <td>NaN</td>\n",
              "      <td>NaN</td>\n",
              "      <td>NaN</td>\n",
              "      <td>NaN</td>\n",
              "      <td>NaN</td>\n",
              "      <td>Somewhat useful</td>\n",
              "      <td>NaN</td>\n",
              "      <td>NaN</td>\n",
              "      <td>NaN</td>\n",
              "      <td>Data Machina Newsletter,Jack's Import AI Newsl...</td>\n",
              "      <td>NaN</td>\n",
              "      <td>NaN</td>\n",
              "      <td>NaN</td>\n",
              "      <td>NaN</td>\n",
              "      <td>NaN</td>\n",
              "      <td>...</td>\n",
              "      <td>Sometimes</td>\n",
              "      <td>NaN</td>\n",
              "      <td>Most of the time</td>\n",
              "      <td>NaN</td>\n",
              "      <td>Sometimes</td>\n",
              "      <td>NaN</td>\n",
              "      <td>NaN</td>\n",
              "      <td>NaN</td>\n",
              "      <td>10-25% of projects</td>\n",
              "      <td>Approximately half internal and half external</td>\n",
              "      <td>Business Department</td>\n",
              "      <td>NaN</td>\n",
              "      <td>NaN</td>\n",
              "      <td>Flat files not in a database or cache (e.g. CS...</td>\n",
              "      <td>Company Developed Platform</td>\n",
              "      <td>NaN</td>\n",
              "      <td>Git</td>\n",
              "      <td>Rarely</td>\n",
              "      <td>NaN</td>\n",
              "      <td>NaN</td>\n",
              "      <td>I do not want to share information about my sa...</td>\n",
              "      <td>2</td>\n",
              "      <td>NaN</td>\n",
              "      <td>NaN</td>\n",
              "      <td>NaN</td>\n",
              "      <td>NaN</td>\n",
              "      <td>NaN</td>\n",
              "      <td>NaN</td>\n",
              "      <td>NaN</td>\n",
              "      <td>NaN</td>\n",
              "      <td>NaN</td>\n",
              "      <td>NaN</td>\n",
              "      <td>NaN</td>\n",
              "      <td>NaN</td>\n",
              "      <td>NaN</td>\n",
              "      <td>NaN</td>\n",
              "      <td>NaN</td>\n",
              "      <td>NaN</td>\n",
              "      <td>NaN</td>\n",
              "      <td>NaN</td>\n",
              "    </tr>\n",
              "  </tbody>\n",
              "</table>\n",
              "<p>5 rows × 228 columns</p>\n",
              "</div>"
            ],
            "text/plain": [
              "                                        GenderSelect  ... JobFactorPublishingOpportunity\n",
              "0  Non-binary, genderqueer, or gender non-conforming  ...                            NaN\n",
              "1                                             Female  ...                            NaN\n",
              "2                                               Male  ...                 Very Important\n",
              "3                                               Male  ...                            NaN\n",
              "4                                               Male  ...                            NaN\n",
              "\n",
              "[5 rows x 228 columns]"
            ]
          },
          "metadata": {
            "tags": []
          },
          "execution_count": 9
        }
      ]
    },
    {
      "cell_type": "code",
      "metadata": {
        "colab": {
          "base_uri": "https://localhost:8080/"
        },
        "id": "JO6vo0AJS-dO",
        "outputId": "4cc460c3-23bc-4082-b04d-ced2d51af9ec"
      },
      "source": [
        "survey_2018.head()"
      ],
      "execution_count": null,
      "outputs": [
        {
          "output_type": "execute_result",
          "data": {
            "text/html": [
              "<div>\n",
              "<style scoped>\n",
              "    .dataframe tbody tr th:only-of-type {\n",
              "        vertical-align: middle;\n",
              "    }\n",
              "\n",
              "    .dataframe tbody tr th {\n",
              "        vertical-align: top;\n",
              "    }\n",
              "\n",
              "    .dataframe thead th {\n",
              "        text-align: right;\n",
              "    }\n",
              "</style>\n",
              "<table border=\"1\" class=\"dataframe\">\n",
              "  <thead>\n",
              "    <tr style=\"text-align: right;\">\n",
              "      <th></th>\n",
              "      <th>Time from Start to Finish (seconds)</th>\n",
              "      <th>Q1</th>\n",
              "      <th>Q1_OTHER_TEXT</th>\n",
              "      <th>Q2</th>\n",
              "      <th>Q3</th>\n",
              "      <th>Q4</th>\n",
              "      <th>Q5</th>\n",
              "      <th>Q6</th>\n",
              "      <th>Q6_OTHER_TEXT</th>\n",
              "      <th>Q7</th>\n",
              "      <th>Q7_OTHER_TEXT</th>\n",
              "      <th>Q8</th>\n",
              "      <th>Q9</th>\n",
              "      <th>Q10</th>\n",
              "      <th>Q11_Part_1</th>\n",
              "      <th>Q11_Part_2</th>\n",
              "      <th>Q11_Part_3</th>\n",
              "      <th>Q11_Part_4</th>\n",
              "      <th>Q11_Part_5</th>\n",
              "      <th>Q11_Part_6</th>\n",
              "      <th>Q11_Part_7</th>\n",
              "      <th>Q11_OTHER_TEXT</th>\n",
              "      <th>Q12_MULTIPLE_CHOICE</th>\n",
              "      <th>Q12_Part_1_TEXT</th>\n",
              "      <th>Q12_Part_2_TEXT</th>\n",
              "      <th>Q12_Part_3_TEXT</th>\n",
              "      <th>Q12_Part_4_TEXT</th>\n",
              "      <th>Q12_Part_5_TEXT</th>\n",
              "      <th>Q12_OTHER_TEXT</th>\n",
              "      <th>Q13_Part_1</th>\n",
              "      <th>Q13_Part_2</th>\n",
              "      <th>Q13_Part_3</th>\n",
              "      <th>Q13_Part_4</th>\n",
              "      <th>Q13_Part_5</th>\n",
              "      <th>Q13_Part_6</th>\n",
              "      <th>Q13_Part_7</th>\n",
              "      <th>Q13_Part_8</th>\n",
              "      <th>Q13_Part_9</th>\n",
              "      <th>Q13_Part_10</th>\n",
              "      <th>Q13_Part_11</th>\n",
              "      <th>...</th>\n",
              "      <th>Q46</th>\n",
              "      <th>Q47_Part_1</th>\n",
              "      <th>Q47_Part_2</th>\n",
              "      <th>Q47_Part_3</th>\n",
              "      <th>Q47_Part_4</th>\n",
              "      <th>Q47_Part_5</th>\n",
              "      <th>Q47_Part_6</th>\n",
              "      <th>Q47_Part_7</th>\n",
              "      <th>Q47_Part_8</th>\n",
              "      <th>Q47_Part_9</th>\n",
              "      <th>Q47_Part_10</th>\n",
              "      <th>Q47_Part_11</th>\n",
              "      <th>Q47_Part_12</th>\n",
              "      <th>Q47_Part_13</th>\n",
              "      <th>Q47_Part_14</th>\n",
              "      <th>Q47_Part_15</th>\n",
              "      <th>Q47_Part_16</th>\n",
              "      <th>Q48</th>\n",
              "      <th>Q49_Part_1</th>\n",
              "      <th>Q49_Part_2</th>\n",
              "      <th>Q49_Part_3</th>\n",
              "      <th>Q49_Part_4</th>\n",
              "      <th>Q49_Part_5</th>\n",
              "      <th>Q49_Part_6</th>\n",
              "      <th>Q49_Part_7</th>\n",
              "      <th>Q49_Part_8</th>\n",
              "      <th>Q49_Part_9</th>\n",
              "      <th>Q49_Part_10</th>\n",
              "      <th>Q49_Part_11</th>\n",
              "      <th>Q49_Part_12</th>\n",
              "      <th>Q49_OTHER_TEXT</th>\n",
              "      <th>Q50_Part_1</th>\n",
              "      <th>Q50_Part_2</th>\n",
              "      <th>Q50_Part_3</th>\n",
              "      <th>Q50_Part_4</th>\n",
              "      <th>Q50_Part_5</th>\n",
              "      <th>Q50_Part_6</th>\n",
              "      <th>Q50_Part_7</th>\n",
              "      <th>Q50_Part_8</th>\n",
              "      <th>Q50_OTHER_TEXT</th>\n",
              "    </tr>\n",
              "  </thead>\n",
              "  <tbody>\n",
              "    <tr>\n",
              "      <th>0</th>\n",
              "      <td>710</td>\n",
              "      <td>Female</td>\n",
              "      <td>-1</td>\n",
              "      <td>45-49</td>\n",
              "      <td>United States of America</td>\n",
              "      <td>Doctoral degree</td>\n",
              "      <td>Other</td>\n",
              "      <td>Consultant</td>\n",
              "      <td>-1</td>\n",
              "      <td>Other</td>\n",
              "      <td>0</td>\n",
              "      <td>NaN</td>\n",
              "      <td>NaN</td>\n",
              "      <td>I do not know</td>\n",
              "      <td>Analyze and understand data to influence produ...</td>\n",
              "      <td>Build and/or run a machine learning service th...</td>\n",
              "      <td>Build and/or run the data infrastructure that ...</td>\n",
              "      <td>NaN</td>\n",
              "      <td>Do research that advances the state of the art...</td>\n",
              "      <td>NaN</td>\n",
              "      <td>NaN</td>\n",
              "      <td>-1</td>\n",
              "      <td>Cloud-based data software &amp; APIs (AWS, GCP, Az...</td>\n",
              "      <td>-1</td>\n",
              "      <td>-1</td>\n",
              "      <td>-1</td>\n",
              "      <td>-1</td>\n",
              "      <td>0</td>\n",
              "      <td>-1</td>\n",
              "      <td>Jupyter/IPython</td>\n",
              "      <td>NaN</td>\n",
              "      <td>NaN</td>\n",
              "      <td>NaN</td>\n",
              "      <td>NaN</td>\n",
              "      <td>NaN</td>\n",
              "      <td>NaN</td>\n",
              "      <td>NaN</td>\n",
              "      <td>NaN</td>\n",
              "      <td>NaN</td>\n",
              "      <td>NaN</td>\n",
              "      <td>...</td>\n",
              "      <td>NaN</td>\n",
              "      <td>NaN</td>\n",
              "      <td>NaN</td>\n",
              "      <td>NaN</td>\n",
              "      <td>NaN</td>\n",
              "      <td>NaN</td>\n",
              "      <td>NaN</td>\n",
              "      <td>NaN</td>\n",
              "      <td>NaN</td>\n",
              "      <td>NaN</td>\n",
              "      <td>NaN</td>\n",
              "      <td>NaN</td>\n",
              "      <td>NaN</td>\n",
              "      <td>NaN</td>\n",
              "      <td>NaN</td>\n",
              "      <td>NaN</td>\n",
              "      <td>NaN</td>\n",
              "      <td>NaN</td>\n",
              "      <td>NaN</td>\n",
              "      <td>NaN</td>\n",
              "      <td>NaN</td>\n",
              "      <td>NaN</td>\n",
              "      <td>NaN</td>\n",
              "      <td>NaN</td>\n",
              "      <td>NaN</td>\n",
              "      <td>NaN</td>\n",
              "      <td>NaN</td>\n",
              "      <td>NaN</td>\n",
              "      <td>NaN</td>\n",
              "      <td>NaN</td>\n",
              "      <td>-1</td>\n",
              "      <td>NaN</td>\n",
              "      <td>NaN</td>\n",
              "      <td>NaN</td>\n",
              "      <td>NaN</td>\n",
              "      <td>NaN</td>\n",
              "      <td>NaN</td>\n",
              "      <td>NaN</td>\n",
              "      <td>NaN</td>\n",
              "      <td>-1</td>\n",
              "    </tr>\n",
              "    <tr>\n",
              "      <th>1</th>\n",
              "      <td>434</td>\n",
              "      <td>Male</td>\n",
              "      <td>-1</td>\n",
              "      <td>30-34</td>\n",
              "      <td>Indonesia</td>\n",
              "      <td>Bachelorâs degree</td>\n",
              "      <td>Engineering (non-computer focused)</td>\n",
              "      <td>Other</td>\n",
              "      <td>0</td>\n",
              "      <td>Manufacturing/Fabrication</td>\n",
              "      <td>-1</td>\n",
              "      <td>5-10</td>\n",
              "      <td>10-20,000</td>\n",
              "      <td>No (we do not use ML methods)</td>\n",
              "      <td>NaN</td>\n",
              "      <td>NaN</td>\n",
              "      <td>NaN</td>\n",
              "      <td>NaN</td>\n",
              "      <td>NaN</td>\n",
              "      <td>None of these activities are an important part...</td>\n",
              "      <td>NaN</td>\n",
              "      <td>-1</td>\n",
              "      <td>Basic statistical software (Microsoft Excel, G...</td>\n",
              "      <td>1</td>\n",
              "      <td>-1</td>\n",
              "      <td>-1</td>\n",
              "      <td>-1</td>\n",
              "      <td>-1</td>\n",
              "      <td>-1</td>\n",
              "      <td>NaN</td>\n",
              "      <td>NaN</td>\n",
              "      <td>NaN</td>\n",
              "      <td>NaN</td>\n",
              "      <td>NaN</td>\n",
              "      <td>NaN</td>\n",
              "      <td>NaN</td>\n",
              "      <td>NaN</td>\n",
              "      <td>NaN</td>\n",
              "      <td>NaN</td>\n",
              "      <td>NaN</td>\n",
              "      <td>...</td>\n",
              "      <td>NaN</td>\n",
              "      <td>NaN</td>\n",
              "      <td>NaN</td>\n",
              "      <td>NaN</td>\n",
              "      <td>NaN</td>\n",
              "      <td>NaN</td>\n",
              "      <td>NaN</td>\n",
              "      <td>NaN</td>\n",
              "      <td>NaN</td>\n",
              "      <td>NaN</td>\n",
              "      <td>NaN</td>\n",
              "      <td>NaN</td>\n",
              "      <td>NaN</td>\n",
              "      <td>NaN</td>\n",
              "      <td>NaN</td>\n",
              "      <td>NaN</td>\n",
              "      <td>NaN</td>\n",
              "      <td>NaN</td>\n",
              "      <td>NaN</td>\n",
              "      <td>NaN</td>\n",
              "      <td>NaN</td>\n",
              "      <td>NaN</td>\n",
              "      <td>NaN</td>\n",
              "      <td>NaN</td>\n",
              "      <td>NaN</td>\n",
              "      <td>NaN</td>\n",
              "      <td>NaN</td>\n",
              "      <td>NaN</td>\n",
              "      <td>NaN</td>\n",
              "      <td>NaN</td>\n",
              "      <td>-1</td>\n",
              "      <td>NaN</td>\n",
              "      <td>NaN</td>\n",
              "      <td>NaN</td>\n",
              "      <td>NaN</td>\n",
              "      <td>NaN</td>\n",
              "      <td>NaN</td>\n",
              "      <td>NaN</td>\n",
              "      <td>NaN</td>\n",
              "      <td>-1</td>\n",
              "    </tr>\n",
              "    <tr>\n",
              "      <th>2</th>\n",
              "      <td>718</td>\n",
              "      <td>Female</td>\n",
              "      <td>-1</td>\n",
              "      <td>30-34</td>\n",
              "      <td>United States of America</td>\n",
              "      <td>Masterâs degree</td>\n",
              "      <td>Computer science (software engineering, etc.)</td>\n",
              "      <td>Data Scientist</td>\n",
              "      <td>-1</td>\n",
              "      <td>I am a student</td>\n",
              "      <td>-1</td>\n",
              "      <td>0-1</td>\n",
              "      <td>0-10,000</td>\n",
              "      <td>I do not know</td>\n",
              "      <td>Analyze and understand data to influence produ...</td>\n",
              "      <td>NaN</td>\n",
              "      <td>NaN</td>\n",
              "      <td>NaN</td>\n",
              "      <td>NaN</td>\n",
              "      <td>NaN</td>\n",
              "      <td>NaN</td>\n",
              "      <td>-1</td>\n",
              "      <td>Local or hosted development environments (RStu...</td>\n",
              "      <td>-1</td>\n",
              "      <td>-1</td>\n",
              "      <td>-1</td>\n",
              "      <td>0</td>\n",
              "      <td>-1</td>\n",
              "      <td>-1</td>\n",
              "      <td>NaN</td>\n",
              "      <td>NaN</td>\n",
              "      <td>NaN</td>\n",
              "      <td>NaN</td>\n",
              "      <td>NaN</td>\n",
              "      <td>NaN</td>\n",
              "      <td>MATLAB</td>\n",
              "      <td>NaN</td>\n",
              "      <td>NaN</td>\n",
              "      <td>NaN</td>\n",
              "      <td>NaN</td>\n",
              "      <td>...</td>\n",
              "      <td>10-20</td>\n",
              "      <td>NaN</td>\n",
              "      <td>Examine feature correlations</td>\n",
              "      <td>Examine feature importances</td>\n",
              "      <td>NaN</td>\n",
              "      <td>NaN</td>\n",
              "      <td>NaN</td>\n",
              "      <td>NaN</td>\n",
              "      <td>Plot predicted vs. actual results</td>\n",
              "      <td>NaN</td>\n",
              "      <td>NaN</td>\n",
              "      <td>NaN</td>\n",
              "      <td>NaN</td>\n",
              "      <td>NaN</td>\n",
              "      <td>NaN</td>\n",
              "      <td>NaN</td>\n",
              "      <td>NaN</td>\n",
              "      <td>I am confident that I can explain the outputs ...</td>\n",
              "      <td>NaN</td>\n",
              "      <td>NaN</td>\n",
              "      <td>NaN</td>\n",
              "      <td>NaN</td>\n",
              "      <td>NaN</td>\n",
              "      <td>NaN</td>\n",
              "      <td>Make sure the code is human-readable</td>\n",
              "      <td>Define all random seeds</td>\n",
              "      <td>NaN</td>\n",
              "      <td>Include a text file describing all dependencies</td>\n",
              "      <td>NaN</td>\n",
              "      <td>NaN</td>\n",
              "      <td>-1</td>\n",
              "      <td>NaN</td>\n",
              "      <td>Too time-consuming</td>\n",
              "      <td>NaN</td>\n",
              "      <td>NaN</td>\n",
              "      <td>NaN</td>\n",
              "      <td>NaN</td>\n",
              "      <td>NaN</td>\n",
              "      <td>NaN</td>\n",
              "      <td>-1</td>\n",
              "    </tr>\n",
              "    <tr>\n",
              "      <th>3</th>\n",
              "      <td>621</td>\n",
              "      <td>Male</td>\n",
              "      <td>-1</td>\n",
              "      <td>35-39</td>\n",
              "      <td>United States of America</td>\n",
              "      <td>Masterâs degree</td>\n",
              "      <td>Social sciences (anthropology, psychology, soc...</td>\n",
              "      <td>Not employed</td>\n",
              "      <td>-1</td>\n",
              "      <td>NaN</td>\n",
              "      <td>-1</td>\n",
              "      <td>NaN</td>\n",
              "      <td>NaN</td>\n",
              "      <td>NaN</td>\n",
              "      <td>NaN</td>\n",
              "      <td>NaN</td>\n",
              "      <td>NaN</td>\n",
              "      <td>NaN</td>\n",
              "      <td>NaN</td>\n",
              "      <td>NaN</td>\n",
              "      <td>NaN</td>\n",
              "      <td>-1</td>\n",
              "      <td>Local or hosted development environments (RStu...</td>\n",
              "      <td>-1</td>\n",
              "      <td>-1</td>\n",
              "      <td>-1</td>\n",
              "      <td>1</td>\n",
              "      <td>-1</td>\n",
              "      <td>-1</td>\n",
              "      <td>Jupyter/IPython</td>\n",
              "      <td>RStudio</td>\n",
              "      <td>PyCharm</td>\n",
              "      <td>NaN</td>\n",
              "      <td>NaN</td>\n",
              "      <td>NaN</td>\n",
              "      <td>NaN</td>\n",
              "      <td>Visual Studio</td>\n",
              "      <td>NaN</td>\n",
              "      <td>NaN</td>\n",
              "      <td>Vim</td>\n",
              "      <td>...</td>\n",
              "      <td>20-30</td>\n",
              "      <td>NaN</td>\n",
              "      <td>Examine feature correlations</td>\n",
              "      <td>Examine feature importances</td>\n",
              "      <td>Plot decision boundaries</td>\n",
              "      <td>NaN</td>\n",
              "      <td>NaN</td>\n",
              "      <td>NaN</td>\n",
              "      <td>Plot predicted vs. actual results</td>\n",
              "      <td>NaN</td>\n",
              "      <td>Sensitivity analysis/perturbation importance</td>\n",
              "      <td>NaN</td>\n",
              "      <td>NaN</td>\n",
              "      <td>NaN</td>\n",
              "      <td>NaN</td>\n",
              "      <td>NaN</td>\n",
              "      <td>NaN</td>\n",
              "      <td>Yes, most ML models are \"black boxes\"</td>\n",
              "      <td>NaN</td>\n",
              "      <td>NaN</td>\n",
              "      <td>Share data, code, and environment using a host...</td>\n",
              "      <td>NaN</td>\n",
              "      <td>NaN</td>\n",
              "      <td>NaN</td>\n",
              "      <td>Make sure the code is human-readable</td>\n",
              "      <td>NaN</td>\n",
              "      <td>Define relative rather than absolute file paths</td>\n",
              "      <td>NaN</td>\n",
              "      <td>NaN</td>\n",
              "      <td>NaN</td>\n",
              "      <td>-1</td>\n",
              "      <td>NaN</td>\n",
              "      <td>NaN</td>\n",
              "      <td>Requires too much technical knowledge</td>\n",
              "      <td>NaN</td>\n",
              "      <td>Not enough incentives to share my work</td>\n",
              "      <td>NaN</td>\n",
              "      <td>NaN</td>\n",
              "      <td>NaN</td>\n",
              "      <td>-1</td>\n",
              "    </tr>\n",
              "    <tr>\n",
              "      <th>4</th>\n",
              "      <td>731</td>\n",
              "      <td>Male</td>\n",
              "      <td>-1</td>\n",
              "      <td>22-24</td>\n",
              "      <td>India</td>\n",
              "      <td>Masterâs degree</td>\n",
              "      <td>Mathematics or statistics</td>\n",
              "      <td>Data Analyst</td>\n",
              "      <td>-1</td>\n",
              "      <td>I am a student</td>\n",
              "      <td>-1</td>\n",
              "      <td>0-1</td>\n",
              "      <td>0-10,000</td>\n",
              "      <td>I do not know</td>\n",
              "      <td>NaN</td>\n",
              "      <td>NaN</td>\n",
              "      <td>NaN</td>\n",
              "      <td>NaN</td>\n",
              "      <td>NaN</td>\n",
              "      <td>NaN</td>\n",
              "      <td>Other</td>\n",
              "      <td>-1</td>\n",
              "      <td>Advanced statistical software (SPSS, SAS, etc.)</td>\n",
              "      <td>-1</td>\n",
              "      <td>1</td>\n",
              "      <td>-1</td>\n",
              "      <td>-1</td>\n",
              "      <td>-1</td>\n",
              "      <td>-1</td>\n",
              "      <td>NaN</td>\n",
              "      <td>RStudio</td>\n",
              "      <td>NaN</td>\n",
              "      <td>NaN</td>\n",
              "      <td>NaN</td>\n",
              "      <td>NaN</td>\n",
              "      <td>NaN</td>\n",
              "      <td>NaN</td>\n",
              "      <td>NaN</td>\n",
              "      <td>NaN</td>\n",
              "      <td>NaN</td>\n",
              "      <td>...</td>\n",
              "      <td>20-30</td>\n",
              "      <td>NaN</td>\n",
              "      <td>NaN</td>\n",
              "      <td>NaN</td>\n",
              "      <td>NaN</td>\n",
              "      <td>Create partial dependence plots</td>\n",
              "      <td>NaN</td>\n",
              "      <td>NaN</td>\n",
              "      <td>NaN</td>\n",
              "      <td>NaN</td>\n",
              "      <td>NaN</td>\n",
              "      <td>NaN</td>\n",
              "      <td>NaN</td>\n",
              "      <td>NaN</td>\n",
              "      <td>NaN</td>\n",
              "      <td>NaN</td>\n",
              "      <td>NaN</td>\n",
              "      <td>I am confident that I can understand and expla...</td>\n",
              "      <td>NaN</td>\n",
              "      <td>NaN</td>\n",
              "      <td>NaN</td>\n",
              "      <td>NaN</td>\n",
              "      <td>NaN</td>\n",
              "      <td>NaN</td>\n",
              "      <td>NaN</td>\n",
              "      <td>NaN</td>\n",
              "      <td>Define relative rather than absolute file paths</td>\n",
              "      <td>NaN</td>\n",
              "      <td>NaN</td>\n",
              "      <td>NaN</td>\n",
              "      <td>-1</td>\n",
              "      <td>NaN</td>\n",
              "      <td>Too time-consuming</td>\n",
              "      <td>NaN</td>\n",
              "      <td>NaN</td>\n",
              "      <td>Not enough incentives to share my work</td>\n",
              "      <td>NaN</td>\n",
              "      <td>NaN</td>\n",
              "      <td>NaN</td>\n",
              "      <td>-1</td>\n",
              "    </tr>\n",
              "  </tbody>\n",
              "</table>\n",
              "<p>5 rows × 395 columns</p>\n",
              "</div>"
            ],
            "text/plain": [
              "   Time from Start to Finish (seconds)      Q1  ...  Q50_Part_8 Q50_OTHER_TEXT\n",
              "0                                  710  Female  ...         NaN             -1\n",
              "1                                  434    Male  ...         NaN             -1\n",
              "2                                  718  Female  ...         NaN             -1\n",
              "3                                  621    Male  ...         NaN             -1\n",
              "4                                  731    Male  ...         NaN             -1\n",
              "\n",
              "[5 rows x 395 columns]"
            ]
          },
          "metadata": {
            "tags": []
          },
          "execution_count": 10
        }
      ]
    },
    {
      "cell_type": "code",
      "metadata": {
        "colab": {
          "base_uri": "https://localhost:8080/"
        },
        "id": "8lH5auDhTKfG",
        "outputId": "49710023-b9ee-459a-800a-258ac11468b6"
      },
      "source": [
        "survey_2019.head()"
      ],
      "execution_count": null,
      "outputs": [
        {
          "output_type": "execute_result",
          "data": {
            "text/html": [
              "<div>\n",
              "<style scoped>\n",
              "    .dataframe tbody tr th:only-of-type {\n",
              "        vertical-align: middle;\n",
              "    }\n",
              "\n",
              "    .dataframe tbody tr th {\n",
              "        vertical-align: top;\n",
              "    }\n",
              "\n",
              "    .dataframe thead th {\n",
              "        text-align: right;\n",
              "    }\n",
              "</style>\n",
              "<table border=\"1\" class=\"dataframe\">\n",
              "  <thead>\n",
              "    <tr style=\"text-align: right;\">\n",
              "      <th></th>\n",
              "      <th>Time from Start to Finish (seconds)</th>\n",
              "      <th>Q1</th>\n",
              "      <th>Q2</th>\n",
              "      <th>Q2_OTHER_TEXT</th>\n",
              "      <th>Q3</th>\n",
              "      <th>Q4</th>\n",
              "      <th>Q5</th>\n",
              "      <th>Q5_OTHER_TEXT</th>\n",
              "      <th>Q6</th>\n",
              "      <th>Q7</th>\n",
              "      <th>Q8</th>\n",
              "      <th>Q9_Part_1</th>\n",
              "      <th>Q9_Part_2</th>\n",
              "      <th>Q9_Part_3</th>\n",
              "      <th>Q9_Part_4</th>\n",
              "      <th>Q9_Part_5</th>\n",
              "      <th>Q9_Part_6</th>\n",
              "      <th>Q9_Part_7</th>\n",
              "      <th>Q9_Part_8</th>\n",
              "      <th>Q9_OTHER_TEXT</th>\n",
              "      <th>Q10</th>\n",
              "      <th>Q11</th>\n",
              "      <th>Q12_Part_1</th>\n",
              "      <th>Q12_Part_2</th>\n",
              "      <th>Q12_Part_3</th>\n",
              "      <th>Q12_Part_4</th>\n",
              "      <th>Q12_Part_5</th>\n",
              "      <th>Q12_Part_6</th>\n",
              "      <th>Q12_Part_7</th>\n",
              "      <th>Q12_Part_8</th>\n",
              "      <th>Q12_Part_9</th>\n",
              "      <th>Q12_Part_10</th>\n",
              "      <th>Q12_Part_11</th>\n",
              "      <th>Q12_Part_12</th>\n",
              "      <th>Q12_OTHER_TEXT</th>\n",
              "      <th>Q13_Part_1</th>\n",
              "      <th>Q13_Part_2</th>\n",
              "      <th>Q13_Part_3</th>\n",
              "      <th>Q13_Part_4</th>\n",
              "      <th>Q13_Part_5</th>\n",
              "      <th>...</th>\n",
              "      <th>Q31_OTHER_TEXT</th>\n",
              "      <th>Q32_Part_1</th>\n",
              "      <th>Q32_Part_2</th>\n",
              "      <th>Q32_Part_3</th>\n",
              "      <th>Q32_Part_4</th>\n",
              "      <th>Q32_Part_5</th>\n",
              "      <th>Q32_Part_6</th>\n",
              "      <th>Q32_Part_7</th>\n",
              "      <th>Q32_Part_8</th>\n",
              "      <th>Q32_Part_9</th>\n",
              "      <th>Q32_Part_10</th>\n",
              "      <th>Q32_Part_11</th>\n",
              "      <th>Q32_Part_12</th>\n",
              "      <th>Q32_OTHER_TEXT</th>\n",
              "      <th>Q33_Part_1</th>\n",
              "      <th>Q33_Part_2</th>\n",
              "      <th>Q33_Part_3</th>\n",
              "      <th>Q33_Part_4</th>\n",
              "      <th>Q33_Part_5</th>\n",
              "      <th>Q33_Part_6</th>\n",
              "      <th>Q33_Part_7</th>\n",
              "      <th>Q33_Part_8</th>\n",
              "      <th>Q33_Part_9</th>\n",
              "      <th>Q33_Part_10</th>\n",
              "      <th>Q33_Part_11</th>\n",
              "      <th>Q33_Part_12</th>\n",
              "      <th>Q33_OTHER_TEXT</th>\n",
              "      <th>Q34_Part_1</th>\n",
              "      <th>Q34_Part_2</th>\n",
              "      <th>Q34_Part_3</th>\n",
              "      <th>Q34_Part_4</th>\n",
              "      <th>Q34_Part_5</th>\n",
              "      <th>Q34_Part_6</th>\n",
              "      <th>Q34_Part_7</th>\n",
              "      <th>Q34_Part_8</th>\n",
              "      <th>Q34_Part_9</th>\n",
              "      <th>Q34_Part_10</th>\n",
              "      <th>Q34_Part_11</th>\n",
              "      <th>Q34_Part_12</th>\n",
              "      <th>Q34_OTHER_TEXT</th>\n",
              "    </tr>\n",
              "  </thead>\n",
              "  <tbody>\n",
              "    <tr>\n",
              "      <th>0</th>\n",
              "      <td>510</td>\n",
              "      <td>22-24</td>\n",
              "      <td>Male</td>\n",
              "      <td>-1</td>\n",
              "      <td>France</td>\n",
              "      <td>Masterâs degree</td>\n",
              "      <td>Software Engineer</td>\n",
              "      <td>-1</td>\n",
              "      <td>1000-9,999 employees</td>\n",
              "      <td>0</td>\n",
              "      <td>I do not know</td>\n",
              "      <td>NaN</td>\n",
              "      <td>NaN</td>\n",
              "      <td>NaN</td>\n",
              "      <td>NaN</td>\n",
              "      <td>NaN</td>\n",
              "      <td>NaN</td>\n",
              "      <td>NaN</td>\n",
              "      <td>NaN</td>\n",
              "      <td>-1</td>\n",
              "      <td>30,000-39,999</td>\n",
              "      <td>$0 (USD)</td>\n",
              "      <td>Twitter (data science influencers)</td>\n",
              "      <td>NaN</td>\n",
              "      <td>NaN</td>\n",
              "      <td>Kaggle (forums, blog, social media, etc)</td>\n",
              "      <td>NaN</td>\n",
              "      <td>NaN</td>\n",
              "      <td>NaN</td>\n",
              "      <td>Blogs (Towards Data Science, Medium, Analytics...</td>\n",
              "      <td>Journal Publications (traditional publications...</td>\n",
              "      <td>NaN</td>\n",
              "      <td>NaN</td>\n",
              "      <td>NaN</td>\n",
              "      <td>-1</td>\n",
              "      <td>NaN</td>\n",
              "      <td>Coursera</td>\n",
              "      <td>NaN</td>\n",
              "      <td>DataCamp</td>\n",
              "      <td>NaN</td>\n",
              "      <td>...</td>\n",
              "      <td>-1</td>\n",
              "      <td>NaN</td>\n",
              "      <td>NaN</td>\n",
              "      <td>NaN</td>\n",
              "      <td>NaN</td>\n",
              "      <td>NaN</td>\n",
              "      <td>NaN</td>\n",
              "      <td>NaN</td>\n",
              "      <td>NaN</td>\n",
              "      <td>NaN</td>\n",
              "      <td>NaN</td>\n",
              "      <td>NaN</td>\n",
              "      <td>NaN</td>\n",
              "      <td>-1</td>\n",
              "      <td>NaN</td>\n",
              "      <td>NaN</td>\n",
              "      <td>NaN</td>\n",
              "      <td>NaN</td>\n",
              "      <td>NaN</td>\n",
              "      <td>NaN</td>\n",
              "      <td>NaN</td>\n",
              "      <td>NaN</td>\n",
              "      <td>NaN</td>\n",
              "      <td>NaN</td>\n",
              "      <td>NaN</td>\n",
              "      <td>NaN</td>\n",
              "      <td>-1</td>\n",
              "      <td>NaN</td>\n",
              "      <td>NaN</td>\n",
              "      <td>NaN</td>\n",
              "      <td>NaN</td>\n",
              "      <td>NaN</td>\n",
              "      <td>NaN</td>\n",
              "      <td>NaN</td>\n",
              "      <td>NaN</td>\n",
              "      <td>NaN</td>\n",
              "      <td>NaN</td>\n",
              "      <td>NaN</td>\n",
              "      <td>NaN</td>\n",
              "      <td>-1</td>\n",
              "    </tr>\n",
              "    <tr>\n",
              "      <th>1</th>\n",
              "      <td>423</td>\n",
              "      <td>40-44</td>\n",
              "      <td>Male</td>\n",
              "      <td>-1</td>\n",
              "      <td>India</td>\n",
              "      <td>Professional degree</td>\n",
              "      <td>Software Engineer</td>\n",
              "      <td>-1</td>\n",
              "      <td>&gt; 10,000 employees</td>\n",
              "      <td>20+</td>\n",
              "      <td>We have well established ML methods (i.e., mod...</td>\n",
              "      <td>Analyze and understand data to influence produ...</td>\n",
              "      <td>Build and/or run the data infrastructure that ...</td>\n",
              "      <td>Build prototypes to explore applying machine l...</td>\n",
              "      <td>Build and/or run a machine learning service th...</td>\n",
              "      <td>NaN</td>\n",
              "      <td>NaN</td>\n",
              "      <td>NaN</td>\n",
              "      <td>NaN</td>\n",
              "      <td>-1</td>\n",
              "      <td>5,000-7,499</td>\n",
              "      <td>&gt; $100,000 ($USD)</td>\n",
              "      <td>NaN</td>\n",
              "      <td>NaN</td>\n",
              "      <td>NaN</td>\n",
              "      <td>Kaggle (forums, blog, social media, etc)</td>\n",
              "      <td>NaN</td>\n",
              "      <td>YouTube (Cloud AI Adventures, Siraj Raval, etc)</td>\n",
              "      <td>Podcasts (Chai Time Data Science, Linear Digre...</td>\n",
              "      <td>Blogs (Towards Data Science, Medium, Analytics...</td>\n",
              "      <td>NaN</td>\n",
              "      <td>NaN</td>\n",
              "      <td>NaN</td>\n",
              "      <td>NaN</td>\n",
              "      <td>-1</td>\n",
              "      <td>NaN</td>\n",
              "      <td>Coursera</td>\n",
              "      <td>NaN</td>\n",
              "      <td>DataCamp</td>\n",
              "      <td>NaN</td>\n",
              "      <td>...</td>\n",
              "      <td>-1</td>\n",
              "      <td>NaN</td>\n",
              "      <td>NaN</td>\n",
              "      <td>NaN</td>\n",
              "      <td>NaN</td>\n",
              "      <td>NaN</td>\n",
              "      <td>NaN</td>\n",
              "      <td>NaN</td>\n",
              "      <td>NaN</td>\n",
              "      <td>NaN</td>\n",
              "      <td>NaN</td>\n",
              "      <td>NaN</td>\n",
              "      <td>NaN</td>\n",
              "      <td>-1</td>\n",
              "      <td>NaN</td>\n",
              "      <td>NaN</td>\n",
              "      <td>NaN</td>\n",
              "      <td>NaN</td>\n",
              "      <td>NaN</td>\n",
              "      <td>NaN</td>\n",
              "      <td>NaN</td>\n",
              "      <td>NaN</td>\n",
              "      <td>NaN</td>\n",
              "      <td>NaN</td>\n",
              "      <td>NaN</td>\n",
              "      <td>NaN</td>\n",
              "      <td>-1</td>\n",
              "      <td>NaN</td>\n",
              "      <td>NaN</td>\n",
              "      <td>NaN</td>\n",
              "      <td>NaN</td>\n",
              "      <td>NaN</td>\n",
              "      <td>NaN</td>\n",
              "      <td>NaN</td>\n",
              "      <td>NaN</td>\n",
              "      <td>NaN</td>\n",
              "      <td>NaN</td>\n",
              "      <td>NaN</td>\n",
              "      <td>NaN</td>\n",
              "      <td>-1</td>\n",
              "    </tr>\n",
              "    <tr>\n",
              "      <th>2</th>\n",
              "      <td>83</td>\n",
              "      <td>55-59</td>\n",
              "      <td>Female</td>\n",
              "      <td>-1</td>\n",
              "      <td>Germany</td>\n",
              "      <td>Professional degree</td>\n",
              "      <td>NaN</td>\n",
              "      <td>-1</td>\n",
              "      <td>NaN</td>\n",
              "      <td>NaN</td>\n",
              "      <td>NaN</td>\n",
              "      <td>NaN</td>\n",
              "      <td>NaN</td>\n",
              "      <td>NaN</td>\n",
              "      <td>NaN</td>\n",
              "      <td>NaN</td>\n",
              "      <td>NaN</td>\n",
              "      <td>NaN</td>\n",
              "      <td>NaN</td>\n",
              "      <td>-1</td>\n",
              "      <td>NaN</td>\n",
              "      <td>NaN</td>\n",
              "      <td>NaN</td>\n",
              "      <td>NaN</td>\n",
              "      <td>NaN</td>\n",
              "      <td>NaN</td>\n",
              "      <td>NaN</td>\n",
              "      <td>NaN</td>\n",
              "      <td>NaN</td>\n",
              "      <td>NaN</td>\n",
              "      <td>NaN</td>\n",
              "      <td>NaN</td>\n",
              "      <td>NaN</td>\n",
              "      <td>NaN</td>\n",
              "      <td>-1</td>\n",
              "      <td>NaN</td>\n",
              "      <td>NaN</td>\n",
              "      <td>NaN</td>\n",
              "      <td>NaN</td>\n",
              "      <td>NaN</td>\n",
              "      <td>...</td>\n",
              "      <td>-1</td>\n",
              "      <td>NaN</td>\n",
              "      <td>NaN</td>\n",
              "      <td>NaN</td>\n",
              "      <td>NaN</td>\n",
              "      <td>NaN</td>\n",
              "      <td>NaN</td>\n",
              "      <td>NaN</td>\n",
              "      <td>NaN</td>\n",
              "      <td>NaN</td>\n",
              "      <td>NaN</td>\n",
              "      <td>NaN</td>\n",
              "      <td>NaN</td>\n",
              "      <td>-1</td>\n",
              "      <td>NaN</td>\n",
              "      <td>NaN</td>\n",
              "      <td>NaN</td>\n",
              "      <td>NaN</td>\n",
              "      <td>NaN</td>\n",
              "      <td>NaN</td>\n",
              "      <td>NaN</td>\n",
              "      <td>NaN</td>\n",
              "      <td>NaN</td>\n",
              "      <td>NaN</td>\n",
              "      <td>NaN</td>\n",
              "      <td>NaN</td>\n",
              "      <td>-1</td>\n",
              "      <td>NaN</td>\n",
              "      <td>NaN</td>\n",
              "      <td>NaN</td>\n",
              "      <td>NaN</td>\n",
              "      <td>NaN</td>\n",
              "      <td>NaN</td>\n",
              "      <td>NaN</td>\n",
              "      <td>NaN</td>\n",
              "      <td>NaN</td>\n",
              "      <td>NaN</td>\n",
              "      <td>NaN</td>\n",
              "      <td>NaN</td>\n",
              "      <td>-1</td>\n",
              "    </tr>\n",
              "    <tr>\n",
              "      <th>3</th>\n",
              "      <td>391</td>\n",
              "      <td>40-44</td>\n",
              "      <td>Male</td>\n",
              "      <td>-1</td>\n",
              "      <td>Australia</td>\n",
              "      <td>Masterâs degree</td>\n",
              "      <td>Other</td>\n",
              "      <td>0</td>\n",
              "      <td>&gt; 10,000 employees</td>\n",
              "      <td>20+</td>\n",
              "      <td>I do not know</td>\n",
              "      <td>NaN</td>\n",
              "      <td>NaN</td>\n",
              "      <td>NaN</td>\n",
              "      <td>NaN</td>\n",
              "      <td>NaN</td>\n",
              "      <td>NaN</td>\n",
              "      <td>NaN</td>\n",
              "      <td>NaN</td>\n",
              "      <td>-1</td>\n",
              "      <td>250,000-299,999</td>\n",
              "      <td>$10,000-$99,999</td>\n",
              "      <td>NaN</td>\n",
              "      <td>NaN</td>\n",
              "      <td>NaN</td>\n",
              "      <td>NaN</td>\n",
              "      <td>NaN</td>\n",
              "      <td>NaN</td>\n",
              "      <td>Podcasts (Chai Time Data Science, Linear Digre...</td>\n",
              "      <td>Blogs (Towards Data Science, Medium, Analytics...</td>\n",
              "      <td>Journal Publications (traditional publications...</td>\n",
              "      <td>Slack Communities (ods.ai, kagglenoobs, etc)</td>\n",
              "      <td>NaN</td>\n",
              "      <td>NaN</td>\n",
              "      <td>-1</td>\n",
              "      <td>NaN</td>\n",
              "      <td>Coursera</td>\n",
              "      <td>edX</td>\n",
              "      <td>DataCamp</td>\n",
              "      <td>NaN</td>\n",
              "      <td>...</td>\n",
              "      <td>-1</td>\n",
              "      <td>NaN</td>\n",
              "      <td>NaN</td>\n",
              "      <td>Azure Machine Learning Studio</td>\n",
              "      <td>NaN</td>\n",
              "      <td>NaN</td>\n",
              "      <td>NaN</td>\n",
              "      <td>NaN</td>\n",
              "      <td>NaN</td>\n",
              "      <td>NaN</td>\n",
              "      <td>NaN</td>\n",
              "      <td>NaN</td>\n",
              "      <td>NaN</td>\n",
              "      <td>-1</td>\n",
              "      <td>NaN</td>\n",
              "      <td>NaN</td>\n",
              "      <td>NaN</td>\n",
              "      <td>NaN</td>\n",
              "      <td>NaN</td>\n",
              "      <td>NaN</td>\n",
              "      <td>NaN</td>\n",
              "      <td>NaN</td>\n",
              "      <td>NaN</td>\n",
              "      <td>NaN</td>\n",
              "      <td>None</td>\n",
              "      <td>NaN</td>\n",
              "      <td>-1</td>\n",
              "      <td>NaN</td>\n",
              "      <td>NaN</td>\n",
              "      <td>NaN</td>\n",
              "      <td>NaN</td>\n",
              "      <td>NaN</td>\n",
              "      <td>NaN</td>\n",
              "      <td>NaN</td>\n",
              "      <td>NaN</td>\n",
              "      <td>Azure SQL Database</td>\n",
              "      <td>NaN</td>\n",
              "      <td>NaN</td>\n",
              "      <td>NaN</td>\n",
              "      <td>-1</td>\n",
              "    </tr>\n",
              "    <tr>\n",
              "      <th>4</th>\n",
              "      <td>392</td>\n",
              "      <td>22-24</td>\n",
              "      <td>Male</td>\n",
              "      <td>-1</td>\n",
              "      <td>India</td>\n",
              "      <td>Bachelorâs degree</td>\n",
              "      <td>Other</td>\n",
              "      <td>1</td>\n",
              "      <td>0-49 employees</td>\n",
              "      <td>0</td>\n",
              "      <td>No (we do not use ML methods)</td>\n",
              "      <td>NaN</td>\n",
              "      <td>NaN</td>\n",
              "      <td>NaN</td>\n",
              "      <td>NaN</td>\n",
              "      <td>NaN</td>\n",
              "      <td>NaN</td>\n",
              "      <td>NaN</td>\n",
              "      <td>NaN</td>\n",
              "      <td>-1</td>\n",
              "      <td>4,000-4,999</td>\n",
              "      <td>$0 (USD)</td>\n",
              "      <td>NaN</td>\n",
              "      <td>NaN</td>\n",
              "      <td>NaN</td>\n",
              "      <td>NaN</td>\n",
              "      <td>NaN</td>\n",
              "      <td>YouTube (Cloud AI Adventures, Siraj Raval, etc)</td>\n",
              "      <td>NaN</td>\n",
              "      <td>Blogs (Towards Data Science, Medium, Analytics...</td>\n",
              "      <td>NaN</td>\n",
              "      <td>NaN</td>\n",
              "      <td>NaN</td>\n",
              "      <td>Other</td>\n",
              "      <td>0</td>\n",
              "      <td>NaN</td>\n",
              "      <td>NaN</td>\n",
              "      <td>NaN</td>\n",
              "      <td>NaN</td>\n",
              "      <td>NaN</td>\n",
              "      <td>...</td>\n",
              "      <td>-1</td>\n",
              "      <td>NaN</td>\n",
              "      <td>NaN</td>\n",
              "      <td>NaN</td>\n",
              "      <td>NaN</td>\n",
              "      <td>NaN</td>\n",
              "      <td>NaN</td>\n",
              "      <td>NaN</td>\n",
              "      <td>NaN</td>\n",
              "      <td>NaN</td>\n",
              "      <td>NaN</td>\n",
              "      <td>NaN</td>\n",
              "      <td>NaN</td>\n",
              "      <td>-1</td>\n",
              "      <td>NaN</td>\n",
              "      <td>NaN</td>\n",
              "      <td>NaN</td>\n",
              "      <td>NaN</td>\n",
              "      <td>NaN</td>\n",
              "      <td>NaN</td>\n",
              "      <td>NaN</td>\n",
              "      <td>NaN</td>\n",
              "      <td>NaN</td>\n",
              "      <td>NaN</td>\n",
              "      <td>NaN</td>\n",
              "      <td>NaN</td>\n",
              "      <td>-1</td>\n",
              "      <td>NaN</td>\n",
              "      <td>NaN</td>\n",
              "      <td>NaN</td>\n",
              "      <td>NaN</td>\n",
              "      <td>NaN</td>\n",
              "      <td>NaN</td>\n",
              "      <td>NaN</td>\n",
              "      <td>NaN</td>\n",
              "      <td>NaN</td>\n",
              "      <td>NaN</td>\n",
              "      <td>NaN</td>\n",
              "      <td>NaN</td>\n",
              "      <td>-1</td>\n",
              "    </tr>\n",
              "  </tbody>\n",
              "</table>\n",
              "<p>5 rows × 246 columns</p>\n",
              "</div>"
            ],
            "text/plain": [
              "   Time from Start to Finish (seconds)     Q1  ... Q34_Part_12  Q34_OTHER_TEXT\n",
              "0                                  510  22-24  ...         NaN              -1\n",
              "1                                  423  40-44  ...         NaN              -1\n",
              "2                                   83  55-59  ...         NaN              -1\n",
              "3                                  391  40-44  ...         NaN              -1\n",
              "4                                  392  22-24  ...         NaN              -1\n",
              "\n",
              "[5 rows x 246 columns]"
            ]
          },
          "metadata": {
            "tags": []
          },
          "execution_count": 11
        }
      ]
    },
    {
      "cell_type": "markdown",
      "metadata": {
        "id": "1sVLZ7TEpOij"
      },
      "source": [
        "###**外觀數值**"
      ]
    },
    {
      "cell_type": "code",
      "metadata": {
        "colab": {
          "base_uri": "https://localhost:8080/"
        },
        "id": "pNoIrcwSaezA",
        "outputId": "f0d35b72-0c6c-45f2-bca4-5fe5b9571481"
      },
      "source": [
        "#外觀\n",
        "print(survey_2017.shape)\n",
        "print(survey_2018.shape)\n",
        "print(survey_2019.shape)"
      ],
      "execution_count": null,
      "outputs": [
        {
          "output_type": "stream",
          "text": [
            "(16716, 228)\n",
            "(23859, 395)\n",
            "(19717, 246)\n"
          ],
          "name": "stdout"
        }
      ]
    },
    {
      "cell_type": "code",
      "metadata": {
        "colab": {
          "base_uri": "https://localhost:8080/"
        },
        "id": "WFa7wcd9a1cU",
        "outputId": "52ca2973-19b7-4d85-a5fa-6606ddb39527"
      },
      "source": [
        "print(survey_2017.shape[0])\n",
        "print(survey_2018.shape[0])\n",
        "print(survey_2019.shape[0])"
      ],
      "execution_count": null,
      "outputs": [
        {
          "output_type": "stream",
          "text": [
            "16716\n",
            "23859\n",
            "19717\n"
          ],
          "name": "stdout"
        }
      ]
    },
    {
      "cell_type": "code",
      "metadata": {
        "colab": {
          "base_uri": "https://localhost:8080/"
        },
        "id": "KxwbkM96bkiR",
        "outputId": "d8beebec-2e5d-48f1-9cf7-e18c053e49c2"
      },
      "source": [
        "survey_2017['CurrentJobTitleSelect']"
      ],
      "execution_count": null,
      "outputs": [
        {
          "output_type": "execute_result",
          "data": {
            "text/plain": [
              "0                   DBA/Database Engineer\n",
              "1                                     NaN\n",
              "2                                     NaN\n",
              "3        Operations Research Practitioner\n",
              "4                      Computer Scientist\n",
              "                       ...               \n",
              "16711                                 NaN\n",
              "16712                          Programmer\n",
              "16713                                 NaN\n",
              "16714                                 NaN\n",
              "16715                          Programmer\n",
              "Name: CurrentJobTitleSelect, Length: 16716, dtype: object"
            ]
          },
          "metadata": {
            "tags": []
          },
          "execution_count": 14
        }
      ]
    },
    {
      "cell_type": "code",
      "metadata": {
        "colab": {
          "base_uri": "https://localhost:8080/"
        },
        "id": "MbEUVXdNbwIJ",
        "outputId": "86b61456-6f64-427f-d514-59cd6b679692"
      },
      "source": [
        "survey_2018['Q6']"
      ],
      "execution_count": null,
      "outputs": [
        {
          "output_type": "execute_result",
          "data": {
            "text/plain": [
              "0               Consultant\n",
              "1                    Other\n",
              "2           Data Scientist\n",
              "3             Not employed\n",
              "4             Data Analyst\n",
              "               ...        \n",
              "23854        Chief Officer\n",
              "23855                  NaN\n",
              "23856    Software Engineer\n",
              "23857                  NaN\n",
              "23858                  NaN\n",
              "Name: Q6, Length: 23859, dtype: object"
            ]
          },
          "metadata": {
            "tags": []
          },
          "execution_count": 15
        }
      ]
    },
    {
      "cell_type": "code",
      "metadata": {
        "colab": {
          "base_uri": "https://localhost:8080/"
        },
        "id": "jp0j59YXcBY2",
        "outputId": "0c4cef2b-d045-4838-faf6-1d6e3ddb2f26"
      },
      "source": [
        "survey_2019['Q5']"
      ],
      "execution_count": null,
      "outputs": [
        {
          "output_type": "execute_result",
          "data": {
            "text/plain": [
              "0        Software Engineer\n",
              "1        Software Engineer\n",
              "2                      NaN\n",
              "3                    Other\n",
              "4                    Other\n",
              "               ...        \n",
              "19712                  NaN\n",
              "19713                Other\n",
              "19714              Student\n",
              "19715         Statistician\n",
              "19716    Software Engineer\n",
              "Name: Q5, Length: 19717, dtype: object"
            ]
          },
          "metadata": {
            "tags": []
          },
          "execution_count": 16
        }
      ]
    },
    {
      "cell_type": "code",
      "metadata": {
        "id": "K7jT8q41cdLk"
      },
      "source": [
        "def print_respondents_info(year, df, col_name):\n",
        "  ttl_respondents = df.shape[0]\n",
        "  #計算個數\n",
        "  job_title_value_counts = df[col_name].value_counts()\n",
        "  job_title_percentage = job_title_value_counts / ttl_respondents\n",
        "  print(\"{}年的總答題人數為{:}\".format(year,ttl_respondents))\n",
        "  print(\"{}年的Data Analyst人數為{:,}人;比例為{:.2f}%\".format(year, job_title_value_counts['Data Analyst'], job_title_percentage['Data Analyst']*100))"
      ],
      "execution_count": null,
      "outputs": []
    },
    {
      "cell_type": "code",
      "metadata": {
        "colab": {
          "base_uri": "https://localhost:8080/"
        },
        "id": "sJn5mzLzfe9E",
        "outputId": "0198cb5e-c6a0-46cf-d032-4986102e52f0"
      },
      "source": [
        "print_respondents_info(2017, survey_2017, 'CurrentJobTitleSelect')\n",
        "print_respondents_info(2018, survey_2018, 'Q6')\n",
        "print_respondents_info(2019, survey_2019, 'Q5')"
      ],
      "execution_count": null,
      "outputs": [
        {
          "output_type": "stream",
          "text": [
            "2017年的總答題人數為16716\n",
            "2017年的Data Analyst人數為1,213人;比例為7.26%\n",
            "2018年的總答題人數為23859\n",
            "2018年的Data Analyst人數為1,922人;比例為8.06%\n",
            "2019年的總答題人數為19717\n",
            "2019年的Data Analyst人數為1,598人;比例為8.10%\n"
          ],
          "name": "stdout"
        }
      ]
    },
    {
      "cell_type": "code",
      "metadata": {
        "id": "62vdI6AeYn36"
      },
      "source": [
        "da_2017 = survey_2017[survey_2017['CurrentJobTitleSelect'] == 'Data Analyst']\n",
        "da_2018 = survey_2018[survey_2018['Q6'] == 'Data Analyst']\n",
        "da_2019 = survey_2019[survey_2019['Q5'] == 'Data Analyst']"
      ],
      "execution_count": null,
      "outputs": []
    },
    {
      "cell_type": "code",
      "metadata": {
        "colab": {
          "base_uri": "https://localhost:8080/"
        },
        "id": "umDGiVCAZg6z",
        "outputId": "e773cb0c-2497-45b7-ea66-e7477e531587"
      },
      "source": [
        "print(da_2017.shape[0])\n",
        "print(da_2018.shape[0])\n",
        "print(da_2019.shape[0])"
      ],
      "execution_count": null,
      "outputs": [
        {
          "output_type": "stream",
          "text": [
            "1213\n",
            "1922\n",
            "1598\n"
          ],
          "name": "stdout"
        }
      ]
    },
    {
      "cell_type": "code",
      "metadata": {
        "colab": {
          "base_uri": "https://localhost:8080/"
        },
        "id": "4KtW1jlMaQw6",
        "outputId": "be87dd7e-3e8c-434b-defd-730259a3c95e"
      },
      "source": [
        "da_2017['JobFactorManagement']\n",
        "#單選題"
      ],
      "execution_count": null,
      "outputs": [
        {
          "output_type": "execute_result",
          "data": {
            "text/plain": [
              "25       NaN\n",
              "62       NaN\n",
              "112      NaN\n",
              "119      NaN\n",
              "126      NaN\n",
              "        ... \n",
              "16692    NaN\n",
              "16693    NaN\n",
              "16698    NaN\n",
              "16702    NaN\n",
              "16703    NaN\n",
              "Name: JobFactorManagement, Length: 1213, dtype: object"
            ]
          },
          "metadata": {
            "tags": []
          },
          "execution_count": 21
        }
      ]
    },
    {
      "cell_type": "code",
      "metadata": {
        "colab": {
          "base_uri": "https://localhost:8080/"
        },
        "id": "dUseRwRDa2F4",
        "outputId": "ca48af94-6aff-4199-e09e-79a65c552a9c"
      },
      "source": [
        "da_2018.loc[:, 'Q11_Part_1':'Q11_Part_7']\n",
        "#複選"
      ],
      "execution_count": null,
      "outputs": [
        {
          "output_type": "execute_result",
          "data": {
            "text/html": [
              "<div>\n",
              "<style scoped>\n",
              "    .dataframe tbody tr th:only-of-type {\n",
              "        vertical-align: middle;\n",
              "    }\n",
              "\n",
              "    .dataframe tbody tr th {\n",
              "        vertical-align: top;\n",
              "    }\n",
              "\n",
              "    .dataframe thead th {\n",
              "        text-align: right;\n",
              "    }\n",
              "</style>\n",
              "<table border=\"1\" class=\"dataframe\">\n",
              "  <thead>\n",
              "    <tr style=\"text-align: right;\">\n",
              "      <th></th>\n",
              "      <th>Q11_Part_1</th>\n",
              "      <th>Q11_Part_2</th>\n",
              "      <th>Q11_Part_3</th>\n",
              "      <th>Q11_Part_4</th>\n",
              "      <th>Q11_Part_5</th>\n",
              "      <th>Q11_Part_6</th>\n",
              "      <th>Q11_Part_7</th>\n",
              "    </tr>\n",
              "  </thead>\n",
              "  <tbody>\n",
              "    <tr>\n",
              "      <th>4</th>\n",
              "      <td>NaN</td>\n",
              "      <td>NaN</td>\n",
              "      <td>NaN</td>\n",
              "      <td>NaN</td>\n",
              "      <td>NaN</td>\n",
              "      <td>NaN</td>\n",
              "      <td>Other</td>\n",
              "    </tr>\n",
              "    <tr>\n",
              "      <th>14</th>\n",
              "      <td>Analyze and understand data to influence produ...</td>\n",
              "      <td>NaN</td>\n",
              "      <td>NaN</td>\n",
              "      <td>NaN</td>\n",
              "      <td>NaN</td>\n",
              "      <td>NaN</td>\n",
              "      <td>NaN</td>\n",
              "    </tr>\n",
              "    <tr>\n",
              "      <th>27</th>\n",
              "      <td>Analyze and understand data to influence produ...</td>\n",
              "      <td>NaN</td>\n",
              "      <td>NaN</td>\n",
              "      <td>Build prototypes to explore applying machine l...</td>\n",
              "      <td>Do research that advances the state of the art...</td>\n",
              "      <td>NaN</td>\n",
              "      <td>NaN</td>\n",
              "    </tr>\n",
              "    <tr>\n",
              "      <th>33</th>\n",
              "      <td>Analyze and understand data to influence produ...</td>\n",
              "      <td>Build and/or run a machine learning service th...</td>\n",
              "      <td>NaN</td>\n",
              "      <td>NaN</td>\n",
              "      <td>NaN</td>\n",
              "      <td>NaN</td>\n",
              "      <td>NaN</td>\n",
              "    </tr>\n",
              "    <tr>\n",
              "      <th>46</th>\n",
              "      <td>NaN</td>\n",
              "      <td>Build and/or run a machine learning service th...</td>\n",
              "      <td>Build and/or run the data infrastructure that ...</td>\n",
              "      <td>Build prototypes to explore applying machine l...</td>\n",
              "      <td>NaN</td>\n",
              "      <td>NaN</td>\n",
              "      <td>NaN</td>\n",
              "    </tr>\n",
              "    <tr>\n",
              "      <th>...</th>\n",
              "      <td>...</td>\n",
              "      <td>...</td>\n",
              "      <td>...</td>\n",
              "      <td>...</td>\n",
              "      <td>...</td>\n",
              "      <td>...</td>\n",
              "      <td>...</td>\n",
              "    </tr>\n",
              "    <tr>\n",
              "      <th>23785</th>\n",
              "      <td>NaN</td>\n",
              "      <td>NaN</td>\n",
              "      <td>NaN</td>\n",
              "      <td>NaN</td>\n",
              "      <td>NaN</td>\n",
              "      <td>NaN</td>\n",
              "      <td>NaN</td>\n",
              "    </tr>\n",
              "    <tr>\n",
              "      <th>23786</th>\n",
              "      <td>Analyze and understand data to influence produ...</td>\n",
              "      <td>NaN</td>\n",
              "      <td>NaN</td>\n",
              "      <td>NaN</td>\n",
              "      <td>NaN</td>\n",
              "      <td>NaN</td>\n",
              "      <td>NaN</td>\n",
              "    </tr>\n",
              "    <tr>\n",
              "      <th>23798</th>\n",
              "      <td>NaN</td>\n",
              "      <td>NaN</td>\n",
              "      <td>NaN</td>\n",
              "      <td>NaN</td>\n",
              "      <td>NaN</td>\n",
              "      <td>NaN</td>\n",
              "      <td>NaN</td>\n",
              "    </tr>\n",
              "    <tr>\n",
              "      <th>23838</th>\n",
              "      <td>NaN</td>\n",
              "      <td>NaN</td>\n",
              "      <td>NaN</td>\n",
              "      <td>NaN</td>\n",
              "      <td>NaN</td>\n",
              "      <td>NaN</td>\n",
              "      <td>NaN</td>\n",
              "    </tr>\n",
              "    <tr>\n",
              "      <th>23849</th>\n",
              "      <td>Analyze and understand data to influence produ...</td>\n",
              "      <td>NaN</td>\n",
              "      <td>NaN</td>\n",
              "      <td>NaN</td>\n",
              "      <td>NaN</td>\n",
              "      <td>NaN</td>\n",
              "      <td>NaN</td>\n",
              "    </tr>\n",
              "  </tbody>\n",
              "</table>\n",
              "<p>1922 rows × 7 columns</p>\n",
              "</div>"
            ],
            "text/plain": [
              "                                              Q11_Part_1  ... Q11_Part_7\n",
              "4                                                    NaN  ...      Other\n",
              "14     Analyze and understand data to influence produ...  ...        NaN\n",
              "27     Analyze and understand data to influence produ...  ...        NaN\n",
              "33     Analyze and understand data to influence produ...  ...        NaN\n",
              "46                                                   NaN  ...        NaN\n",
              "...                                                  ...  ...        ...\n",
              "23785                                                NaN  ...        NaN\n",
              "23786  Analyze and understand data to influence produ...  ...        NaN\n",
              "23798                                                NaN  ...        NaN\n",
              "23838                                                NaN  ...        NaN\n",
              "23849  Analyze and understand data to influence produ...  ...        NaN\n",
              "\n",
              "[1922 rows x 7 columns]"
            ]
          },
          "metadata": {
            "tags": []
          },
          "execution_count": 22
        }
      ]
    },
    {
      "cell_type": "markdown",
      "metadata": {
        "id": "_S20sfljoyvT"
      },
      "source": [
        "### **分析單選多選的函數**"
      ]
    },
    {
      "cell_type": "code",
      "metadata": {
        "id": "E_EXDzXxbXeZ"
      },
      "source": [
        "def gat_value_ratios(df, col_name):\n",
        "  return df[col_name].value_counts() / df[col_name].value_counts().sum()\n",
        "#分析單選"
      ],
      "execution_count": null,
      "outputs": []
    },
    {
      "cell_type": "code",
      "metadata": {
        "id": "eKTcyNTScQ99"
      },
      "source": [
        "def get_checkbox_ratios(df, col_pattern):\n",
        "  channel_names = []\n",
        "  channel_checks = []\n",
        "  for col_name in df.columns:\n",
        "    if (col_pattern in col_name) and ('OTHER_TEXT' not in col_name):\n",
        "      channel_name = df[col_name].value_counts().index\n",
        "      channel_check = df[col_name].value_counts().values\n",
        "      if channel_name.size!= 0:\n",
        "          channel_names.append(channel_name[0])\n",
        "          channel_checks.append(channel_check[0])\n",
        "  channel_counts = pd.Series(channel_checks, index=channel_names)\n",
        "  channel_ratios = channel_counts / channel_counts.sum()\n",
        "  channel_ratios_sorted = channel_ratios.sort_values(ascending=False)\n",
        "  return channel_ratios_sorted"
      ],
      "execution_count": null,
      "outputs": []
    },
    {
      "cell_type": "markdown",
      "metadata": {
        "id": "mxIKqtTaosbi"
      },
      "source": [
        "### **分析工作內容**"
      ]
    },
    {
      "cell_type": "code",
      "metadata": {
        "colab": {
          "base_uri": "https://localhost:8080/"
        },
        "id": "KvFENH97gMXt",
        "outputId": "7c538d60-0624-4368-a4fc-e0a9f0681215"
      },
      "source": [
        "gat_value_ratios(da_2017, 'JobFunctionSelect')"
      ],
      "execution_count": null,
      "outputs": [
        {
          "output_type": "execute_result",
          "data": {
            "text/plain": [
              "Analyze and understand data to influence product or business decisions                                                0.711387\n",
              "Build and/or run the data infrastructure that your business uses for storing, analyzing, and operationalizing data    0.110485\n",
              "Build and/or run a machine learning service that operationally improves your product or workflows                     0.082300\n",
              "Build prototypes to explore applying machine learning to new areas                                                    0.052988\n",
              "Other                                                                                                                 0.030440\n",
              "Research that advances the state of the art of machine learning                                                       0.012401\n",
              "Name: JobFunctionSelect, dtype: float64"
            ]
          },
          "metadata": {
            "tags": []
          },
          "execution_count": 25
        }
      ]
    },
    {
      "cell_type": "code",
      "metadata": {
        "colab": {
          "base_uri": "https://localhost:8080/"
        },
        "id": "FAeK5AUegVCN",
        "outputId": "82f58104-a62b-48d4-8213-1d0a5690d490"
      },
      "source": [
        "get_checkbox_ratios(da_2018,'Q11')"
      ],
      "execution_count": null,
      "outputs": [
        {
          "output_type": "execute_result",
          "data": {
            "text/plain": [
              "Analyze and understand data to influence product or business decisions                                              0.414894\n",
              "Build and/or run the data infrastructure that my business uses for storing, analyzing, and operationalizing data    0.196647\n",
              "Build prototypes to explore applying machine learning to new areas                                                  0.137331\n",
              "Build and/or run a machine learning service that operationally improves my product or workflows                     0.116054\n",
              "Do research that advances the state of the art of machine learning                                                  0.081560\n",
              "None of these activities are an important part of my role at work                                                   0.031270\n",
              "Other                                                                                                               0.022244\n",
              "dtype: float64"
            ]
          },
          "metadata": {
            "tags": []
          },
          "execution_count": 26
        }
      ]
    },
    {
      "cell_type": "code",
      "metadata": {
        "colab": {
          "base_uri": "https://localhost:8080/"
        },
        "id": "Y2riJZGokg5L",
        "outputId": "0d1a313b-f121-435a-fc3c-9853b1f1ac8b"
      },
      "source": [
        "get_checkbox_ratios(da_2019,'Q9')"
      ],
      "execution_count": null,
      "outputs": [
        {
          "output_type": "execute_result",
          "data": {
            "text/plain": [
              "Analyze and understand data to influence product or business decisions                                              0.376728\n",
              "Build and/or run the data infrastructure that my business uses for storing, analyzing, and operationalizing data    0.188141\n",
              "Build prototypes to explore applying machine learning to new areas                                                  0.157379\n",
              "Experimentation and iteration to improve existing ML models                                                         0.100758\n",
              "Build and/or run a machine learning service that operationally improves my product or workflows                     0.100312\n",
              "Do research that advances the state of the art of machine learning                                                  0.054837\n",
              "Other                                                                                                               0.011592\n",
              "None of these activities are an important part of my role at work                                                   0.010254\n",
              "dtype: float64"
            ]
          },
          "metadata": {
            "tags": []
          },
          "execution_count": 27
        }
      ]
    },
    {
      "cell_type": "markdown",
      "metadata": {
        "id": "AsGiPpxooesr"
      },
      "source": [
        "### **分析環境**\n"
      ]
    },
    {
      "cell_type": "code",
      "metadata": {
        "colab": {
          "base_uri": "https://localhost:8080/"
        },
        "id": "zybGpn8Eh18U",
        "outputId": "677b4b85-ebcd-4206-92f6-f3f78a2748e3"
      },
      "source": [
        "gat_value_ratios(da_2018, 'Q12_MULTIPLE_CHOICE')"
      ],
      "execution_count": null,
      "outputs": [
        {
          "output_type": "execute_result",
          "data": {
            "text/plain": [
              "Local or hosted development environments (RStudio, JupyterLab, etc.)    0.404385\n",
              "Basic statistical software (Microsoft Excel, Google Sheets, etc.)       0.198538\n",
              "Business intelligence software (Salesforce, Tableau, Spotfire, etc.)    0.152862\n",
              "Advanced statistical software (SPSS, SAS, etc.)                         0.137637\n",
              "Other                                                                   0.063946\n",
              "Cloud-based data software & APIs (AWS, GCP, Azure, etc.)                0.042631\n",
              "Name: Q12_MULTIPLE_CHOICE, dtype: float64"
            ]
          },
          "metadata": {
            "tags": []
          },
          "execution_count": 28
        }
      ]
    },
    {
      "cell_type": "code",
      "metadata": {
        "colab": {
          "base_uri": "https://localhost:8080/"
        },
        "id": "PXU3IGhYnYxe",
        "outputId": "ced2325a-05b7-4686-9c81-34d75ec2ea1d"
      },
      "source": [
        "gat_value_ratios(da_2019,'Q14')"
      ],
      "execution_count": null,
      "outputs": [
        {
          "output_type": "execute_result",
          "data": {
            "text/plain": [
              "Local development environments (RStudio, JupyterLab, etc.)              0.427692\n",
              "Basic statistical software (Microsoft Excel, Google Sheets, etc.)       0.199231\n",
              "Business intelligence software (Salesforce, Tableau, Spotfire, etc.)    0.156154\n",
              "Advanced statistical software (SPSS, SAS, etc.)                         0.106154\n",
              "Other                                                                   0.068462\n",
              "Cloud-based data software & APIs (AWS, GCP, Azure, etc.)                0.042308\n",
              "Name: Q14, dtype: float64"
            ]
          },
          "metadata": {
            "tags": []
          },
          "execution_count": 29
        }
      ]
    },
    {
      "cell_type": "markdown",
      "metadata": {
        "id": "3DRg2Mj3sUw4"
      },
      "source": [
        "### **分析程式語言**"
      ]
    },
    {
      "cell_type": "code",
      "metadata": {
        "colab": {
          "base_uri": "https://localhost:8080/"
        },
        "id": "rZrysJxYsb5u",
        "outputId": "ffd5922e-1cdd-48ab-9657-bd8869cf0051"
      },
      "source": [
        "get_checkbox_ratios(da_2018,'Q16')"
      ],
      "execution_count": null,
      "outputs": [
        {
          "output_type": "execute_result",
          "data": {
            "text/plain": [
              "Python                   0.266934\n",
              "SQL                      0.227273\n",
              "R                        0.188057\n",
              "Visual Basic/VBA         0.042558\n",
              "SAS/STATA                0.041667\n",
              "Java                     0.038324\n",
              "C/C++                    0.037210\n",
              "Javascript/Typescript    0.035873\n",
              "Bash                     0.029635\n",
              "MATLAB                   0.029635\n",
              "C#/.NET                  0.016488\n",
              "PHP                      0.012255\n",
              "Scala                    0.011809\n",
              "Other                    0.007799\n",
              "Ruby                     0.005125\n",
              "None                     0.004679\n",
              "Go                       0.002674\n",
              "Julia                    0.002005\n",
              "dtype: float64"
            ]
          },
          "metadata": {
            "tags": []
          },
          "execution_count": 30
        }
      ]
    },
    {
      "cell_type": "code",
      "metadata": {
        "colab": {
          "base_uri": "https://localhost:8080/"
        },
        "id": "3JJ5T4BitDxw",
        "outputId": "12df7b4e-6a93-48e9-f91b-e392476d4601"
      },
      "source": [
        "get_checkbox_ratios(da_2019,'Q18')"
      ],
      "execution_count": null,
      "outputs": [
        {
          "output_type": "execute_result",
          "data": {
            "text/plain": [
              "Python        0.339792\n",
              "SQL           0.275433\n",
              "R             0.191349\n",
              "Javascript    0.035640\n",
              "Bash          0.030104\n",
              "MATLAB        0.027682\n",
              "Other         0.026990\n",
              "Java          0.025952\n",
              "C++           0.020415\n",
              "C             0.019377\n",
              "None          0.004152\n",
              "TypeScript    0.003114\n",
              "dtype: float64"
            ]
          },
          "metadata": {
            "tags": []
          },
          "execution_count": 31
        }
      ]
    },
    {
      "cell_type": "code",
      "metadata": {
        "colab": {
          "base_uri": "https://localhost:8080/"
        },
        "id": "iu1vguJgtJKd",
        "outputId": "29587f16-8663-4d98-d7c3-c32f57171fc9"
      },
      "source": [
        "gat_value_ratios(da_2018,'Q18')"
      ],
      "execution_count": null,
      "outputs": [
        {
          "output_type": "execute_result",
          "data": {
            "text/plain": [
              "Python        0.621875\n",
              "R             0.208750\n",
              "SQL           0.121250\n",
              "C++           0.009375\n",
              "Java          0.007500\n",
              "MATLAB        0.006875\n",
              "SAS           0.006250\n",
              "Other         0.005000\n",
              "VBA           0.003750\n",
              "None          0.003750\n",
              "Javascript    0.003125\n",
              "Scala         0.001875\n",
              "Go            0.000625\n",
              "Name: Q18, dtype: float64"
            ]
          },
          "metadata": {
            "tags": []
          },
          "execution_count": 32
        }
      ]
    },
    {
      "cell_type": "code",
      "metadata": {
        "colab": {
          "base_uri": "https://localhost:8080/"
        },
        "id": "Qx7EkwYotPhr",
        "outputId": "c8c850e2-b0db-49c2-9464-9a7d78d7ec93"
      },
      "source": [
        "gat_value_ratios(da_2019,'Q19')"
      ],
      "execution_count": null,
      "outputs": [
        {
          "output_type": "execute_result",
          "data": {
            "text/plain": [
              "Python        0.676885\n",
              "SQL           0.144988\n",
              "R             0.131732\n",
              "C++           0.011599\n",
              "MATLAB        0.008285\n",
              "None          0.007457\n",
              "Other         0.006628\n",
              "C             0.004143\n",
              "Java          0.003314\n",
              "Javascript    0.002486\n",
              "Bash          0.001657\n",
              "TypeScript    0.000829\n",
              "Name: Q19, dtype: float64"
            ]
          },
          "metadata": {
            "tags": []
          },
          "execution_count": 34
        }
      ]
    },
    {
      "cell_type": "markdown",
      "metadata": {
        "id": "p5ZcF2cutoLm"
      },
      "source": [
        "### **整合開發環境分析**"
      ]
    },
    {
      "cell_type": "code",
      "metadata": {
        "colab": {
          "base_uri": "https://localhost:8080/"
        },
        "id": "-Vm83UkPt-1Q",
        "outputId": "a7b98bd5-2f65-46f0-d956-31d565454210"
      },
      "source": [
        "get_checkbox_ratios(da_2018,'Q13')"
      ],
      "execution_count": null,
      "outputs": [
        {
          "output_type": "execute_result",
          "data": {
            "text/plain": [
              "Jupyter/IPython       0.187381\n",
              "RStudio               0.173207\n",
              "Notepad++             0.120138\n",
              "PyCharm               0.082627\n",
              "Spyder                0.080380\n",
              "Sublime Text          0.065341\n",
              "Visual Studio         0.059118\n",
              "MATLAB                0.059118\n",
              "Visual Studio Code    0.051685\n",
              "Atom                  0.044252\n",
              "Vim                   0.030251\n",
              "IntelliJ              0.022818\n",
              "Other                 0.014866\n",
              "None                  0.007606\n",
              "nteract               0.001210\n",
              "dtype: float64"
            ]
          },
          "metadata": {
            "tags": []
          },
          "execution_count": 35
        }
      ]
    },
    {
      "cell_type": "code",
      "metadata": {
        "colab": {
          "base_uri": "https://localhost:8080/"
        },
        "id": "U6V2sx2_uEED",
        "outputId": "63fce57c-913f-4430-8862-9b9f4c512682"
      },
      "source": [
        "get_checkbox_ratios(da_2019,'Q16')"
      ],
      "execution_count": null,
      "outputs": [
        {
          "output_type": "execute_result",
          "data": {
            "text/plain": [
              "Jupyter (JupyterLab, Jupyter Notebooks, etc)     0.268512\n",
              " RStudio                                         0.177452\n",
              "  Notepad++                                      0.098732\n",
              "  Spyder                                         0.093062\n",
              " Visual Studio / Visual Studio Code              0.090727\n",
              " PyCharm                                         0.084723\n",
              "  Sublime Text                                   0.064043\n",
              " Atom                                            0.035357\n",
              " MATLAB                                          0.034023\n",
              "  Vim / Emacs                                    0.021348\n",
              "Other                                            0.016344\n",
              "None                                             0.015677\n",
              "dtype: float64"
            ]
          },
          "metadata": {
            "tags": []
          },
          "execution_count": 36
        }
      ]
    },
    {
      "cell_type": "markdown",
      "metadata": {
        "id": "2kihJ8zuuRCf"
      },
      "source": [
        "### **分析視覺化**"
      ]
    },
    {
      "cell_type": "code",
      "metadata": {
        "colab": {
          "base_uri": "https://localhost:8080/"
        },
        "id": "z3a2j6ZVuUqL",
        "outputId": "b9ccef8c-4ea7-4116-a3b6-bdd5482f9cc4"
      },
      "source": [
        "get_checkbox_ratios(da_2018,'Q21')"
      ],
      "execution_count": null,
      "outputs": [
        {
          "output_type": "execute_result",
          "data": {
            "text/plain": [
              "Matplotlib    0.232951\n",
              "ggplot2       0.216780\n",
              "Seaborn       0.151394\n",
              "Plotly        0.134286\n",
              "Shiny         0.077806\n",
              "D3            0.038200\n",
              "None          0.031638\n",
              "Bokeh         0.030935\n",
              "Lattice       0.026014\n",
              "Leaflet       0.025545\n",
              "Geoplotlib    0.021561\n",
              "Other         0.009843\n",
              "Altair        0.003047\n",
              "dtype: float64"
            ]
          },
          "metadata": {
            "tags": []
          },
          "execution_count": 39
        }
      ]
    },
    {
      "cell_type": "code",
      "metadata": {
        "colab": {
          "base_uri": "https://localhost:8080/"
        },
        "id": "sGhdR4MuuZKO",
        "outputId": "679f6669-7128-4a47-f05d-eae3745cbd52"
      },
      "source": [
        "get_checkbox_ratios(da_2019,'Q20')"
      ],
      "execution_count": null,
      "outputs": [
        {
          "output_type": "execute_result",
          "data": {
            "text/plain": [
              " Matplotlib                  0.288897\n",
              " Seaborn                     0.200538\n",
              " Ggplot / ggplot2            0.175567\n",
              " Plotly / Plotly Express     0.109105\n",
              " Shiny                       0.058010\n",
              "None                         0.050327\n",
              " Bokeh                       0.029197\n",
              " D3.js                       0.026124\n",
              "Other                        0.021129\n",
              " Geoplotlib                  0.020745\n",
              " Leaflet / Folium            0.017672\n",
              " Altair                      0.002689\n",
              "dtype: float64"
            ]
          },
          "metadata": {
            "tags": []
          },
          "execution_count": 38
        }
      ]
    },
    {
      "cell_type": "markdown",
      "metadata": {
        "id": "__W7SsioulT6"
      },
      "source": [
        "###**機器學習框架**"
      ]
    },
    {
      "cell_type": "code",
      "metadata": {
        "colab": {
          "base_uri": "https://localhost:8080/"
        },
        "id": "Jh0umO8dudFz",
        "outputId": "3395e13b-94b4-4e3e-d022-3c2915fdafed"
      },
      "source": [
        "get_checkbox_ratios(da_2018,'Q19')"
      ],
      "execution_count": null,
      "outputs": [
        {
          "output_type": "execute_result",
          "data": {
            "text/plain": [
              "Scikit-Learn    0.198007\n",
              "randomForest    0.141681\n",
              "TensorFlow      0.119151\n",
              "Xgboost         0.100737\n",
              "Keras           0.096404\n",
              "None            0.071274\n",
              "Caret           0.063258\n",
              "PyTorch         0.035095\n",
              "lightgbm        0.033795\n",
              "H20             0.026863\n",
              "Spark MLlib     0.025563\n",
              "catboost        0.017981\n",
              "Prophet         0.016464\n",
              "mlr             0.015815\n",
              "CNTK            0.010615\n",
              "Caffe           0.007799\n",
              "Fastai          0.006932\n",
              "Mxnet           0.006716\n",
              "Other           0.005849\n",
              "dtype: float64"
            ]
          },
          "metadata": {
            "tags": []
          },
          "execution_count": 40
        }
      ]
    },
    {
      "cell_type": "code",
      "metadata": {
        "colab": {
          "base_uri": "https://localhost:8080/"
        },
        "id": "M9qMV51Guzm3",
        "outputId": "a6ee7eed-d3a3-418f-d516-2b2082694220"
      },
      "source": [
        "get_checkbox_ratios(da_2019,'Q28')"
      ],
      "execution_count": null,
      "outputs": [
        {
          "output_type": "execute_result",
          "data": {
            "text/plain": [
              "  Scikit-learn     0.242898\n",
              " RandomForest      0.147727\n",
              " Xgboost           0.111506\n",
              " Keras             0.106179\n",
              "  TensorFlow       0.106179\n",
              "None               0.087358\n",
              " PyTorch           0.063210\n",
              " LightGBM          0.051136\n",
              " Caret             0.043324\n",
              " Spark MLib        0.019886\n",
              " Fast.ai           0.015625\n",
              "Other              0.004972\n",
              "dtype: float64"
            ]
          },
          "metadata": {
            "tags": []
          },
          "execution_count": 41
        }
      ]
    },
    {
      "cell_type": "markdown",
      "metadata": {
        "id": "tJRWSHaTu93e"
      },
      "source": [
        "###**關聯式資料庫**"
      ]
    },
    {
      "cell_type": "code",
      "metadata": {
        "colab": {
          "base_uri": "https://localhost:8080/"
        },
        "id": "nyJRoamuu2nW",
        "outputId": "445fede8-e727-48c9-ce2d-06c824eb94c0"
      },
      "source": [
        "get_checkbox_ratios(da_2018,'Q29')"
      ],
      "execution_count": null,
      "outputs": [
        {
          "output_type": "execute_result",
          "data": {
            "text/plain": [
              "MySQL                               0.222786\n",
              "Microsoft SQL Server                0.143911\n",
              "PostgresSQL                         0.126384\n",
              "SQLite                              0.112085\n",
              "Oracle Database                     0.107934\n",
              "Microsoft Access                    0.065037\n",
              "None                                0.032288\n",
              "AWS Relational Database Service     0.029982\n",
              "Google Cloud SQL                    0.028137\n",
              "Other                               0.022601\n",
              "Azure SQL Database                  0.019373\n",
              "Google Cloud Bigtable               0.014760\n",
              "AWS DynamoDB                        0.011531\n",
              "Azure Database for MySQL            0.010609\n",
              "IBM Cloud Db2                       0.010148\n",
              "AWS SimpleDB                        0.008303\n",
              "Google Cloud Datastore              0.007380\n",
              "AWS Aurora                          0.005535\n",
              "Google Fusion Tables                0.004151\n",
              "Azure Cosmos DB                     0.003229\n",
              "Azure Database for PostgreSQL       0.003229\n",
              "IBM Cloud Compose                   0.003229\n",
              "SAP IQ                              0.002306\n",
              "IBM Cloud Compose for PostgreSQL    0.001384\n",
              "Google Cloud Spanner                0.001384\n",
              "IBM Cloud Compose for MySQL         0.001384\n",
              "Ingres                              0.000923\n",
              "dtype: float64"
            ]
          },
          "metadata": {
            "tags": []
          },
          "execution_count": 42
        }
      ]
    },
    {
      "cell_type": "code",
      "metadata": {
        "colab": {
          "base_uri": "https://localhost:8080/"
        },
        "id": "S5hRKdcTvGcW",
        "outputId": "fa7728e7-b694-42a8-b810-e0bd8c33c8bb"
      },
      "source": [
        "get_checkbox_ratios(da_2019,'Q34')"
      ],
      "execution_count": null,
      "outputs": [
        {
          "output_type": "execute_result",
          "data": {
            "text/plain": [
              "MySQL                              0.251493\n",
              "Microsoft SQL Server               0.172388\n",
              "PostgresSQL                        0.126866\n",
              "Oracle Database                    0.105224\n",
              "SQLite                             0.094030\n",
              "None                               0.062687\n",
              "Microsoft Access                   0.061940\n",
              "Google Cloud SQL                   0.035075\n",
              "Azure SQL Database                 0.031343\n",
              "AWS Relational Database Service    0.024627\n",
              "Other                              0.018657\n",
              "AWS DynamoDB                       0.015672\n",
              "dtype: float64"
            ]
          },
          "metadata": {
            "tags": []
          },
          "execution_count": 46
        }
      ]
    },
    {
      "cell_type": "code",
      "metadata": {
        "id": "wkLx8B_IvMhM"
      },
      "source": [
        ""
      ],
      "execution_count": null,
      "outputs": []
    }
  ]
}