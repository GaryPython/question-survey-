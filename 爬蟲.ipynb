{
  "nbformat": 4,
  "nbformat_minor": 0,
  "metadata": {
    "colab": {
      "name": "爬蟲.ipynb",
      "provenance": [],
      "collapsed_sections": [],
      "toc_visible": true,
      "authorship_tag": "ABX9TyPXzZ3y69epvRp73vzzxHDS",
      "include_colab_link": true
    },
    "kernelspec": {
      "name": "python3",
      "display_name": "Python 3"
    }
  },
  "cells": [
    {
      "cell_type": "markdown",
      "metadata": {
        "id": "view-in-github",
        "colab_type": "text"
      },
      "source": [
        "<a href=\"https://colab.research.google.com/github/GaryPython/question-survey-/blob/main/%E7%88%AC%E8%9F%B2.ipynb\" target=\"_parent\"><img src=\"https://colab.research.google.com/assets/colab-badge.svg\" alt=\"Open In Colab\"/></a>"
      ]
    },
    {
      "cell_type": "markdown",
      "metadata": {
        "id": "lb1YnBw2zD0w"
      },
      "source": [
        "# **INDeed**"
      ]
    },
    {
      "cell_type": "markdown",
      "metadata": {
        "id": "j2v1W6413X6o"
      },
      "source": [
        "* *發送get請求*\n",
        "* Query String Parameters 查詢字串參數\n",
        "\n",
        "\n",
        "\n"
      ]
    },
    {
      "cell_type": "code",
      "metadata": {
        "id": "pd8r-3p1v4dt",
        "colab": {
          "base_uri": "https://localhost:8080/"
        },
        "outputId": "1e6442a5-dadc-4fd7-d7e3-2b62bfe3dabd"
      },
      "source": [
        "import requests\n",
        "\n",
        "request_url = \"https://tw.indeed.com/jobs\"\n",
        "query_string_parameters = {\n",
        "    'q': 'data analyst',\n",
        "    'l': '台北市',\n",
        "    'jt': 'fulltime'\n",
        "}\n",
        "response = requests.get(request_url, params=query_string_parameters)\n",
        "print(response.status_code)"
      ],
      "execution_count": null,
      "outputs": [
        {
          "output_type": "stream",
          "text": [
            "200\n"
          ],
          "name": "stdout"
        }
      ]
    },
    {
      "cell_type": "markdown",
      "metadata": {
        "id": "2xDSvT4w3iAk"
      },
      "source": [
        "* BeautifulSoup4\n",
        "* response（ＨＴＭＬ純文字） 轉換成可解析的 Beautifulsoup物件，再以select方法，將每個連結從\n",
        "ＨＴＭＬ擷取出來\n",
        "\n"
      ]
    },
    {
      "cell_type": "code",
      "metadata": {
        "id": "MF--Odc_3T3L",
        "colab": {
          "base_uri": "https://localhost:8080/"
        },
        "outputId": "f1d25cde-7308-4a20-e70c-dacf03ccdc5a"
      },
      "source": [
        "from bs4 import BeautifulSoup\n",
        "\n",
        "soup = BeautifulSoup(response.text)\n",
        "print(type(soup))\n",
        "job_links = [e.get('href') for e in soup.select('.title a')]\n",
        "print(job_links)"
      ],
      "execution_count": null,
      "outputs": [
        {
          "output_type": "stream",
          "text": [
            "<class 'bs4.BeautifulSoup'>\n",
            "['/rc/clk?jk=f2516e44971da2cd&fccid=813163abd7f747c7&vjs=3', '/rc/clk?jk=aad261cc4afe5eec&fccid=813163abd7f747c7&vjs=3', '/rc/clk?jk=1e114885337188c2&fccid=683f563b5cc25b70&vjs=3', '/rc/clk?jk=aa8d355553507804&fccid=683f563b5cc25b70&vjs=3', '/rc/clk?jk=3411d2f954fded16&fccid=0c39fb2c91742dcf&vjs=3', '/rc/clk?jk=43110abd5989fe84&fccid=9834e576343ebcc2&vjs=3', '/rc/clk?jk=7b217d108ee3ee0f&fccid=feb484a8aef310be&vjs=3', '/rc/clk?jk=787239670619c5d0&fccid=5249cd8e17163cb5&vjs=3', '/rc/clk?jk=fc8248c5adfec7bd&fccid=68d0e0954a811351&vjs=3', '/rc/clk?jk=2b043b7a873499eb&fccid=004041685e219574&vjs=3', '/rc/clk?jk=b5c69a49065845df&fccid=40f204f59a48435f&vjs=3', '/rc/clk?jk=d8688701b4bb978f&fccid=0c39fb2c91742dcf&vjs=3', '/rc/clk?jk=c0ac7cd2ad9b00ce&fccid=a204805f388c4ee8&vjs=3', '/rc/clk?jk=606acce2174ffd6e&fccid=ac2ee5578fa99fc9&vjs=3', '/rc/clk?jk=ab258b9eafd2c8d8&fccid=683f563b5cc25b70&vjs=3']\n"
          ],
          "name": "stdout"
        }
      ]
    },
    {
      "cell_type": "markdown",
      "metadata": {
        "id": "RMzN9eqQPSdg"
      },
      "source": [
        "## **網頁抓取**"
      ]
    },
    {
      "cell_type": "code",
      "metadata": {
        "id": "5RBc-4rEb6DZ"
      },
      "source": [
        "import sys\n",
        "import re\n",
        "import time\n",
        "from random import randint\n",
        "import requests\n",
        "from bs4 import BeautifulSoup"
      ],
      "execution_count": null,
      "outputs": []
    },
    {
      "cell_type": "markdown",
      "metadata": {
        "id": "kc96wqpOcdBV"
      },
      "source": [
        "* 抓取前N個job keys\n",
        "* first_n_job_keys 是前一個id"
      ]
    },
    {
      "cell_type": "code",
      "metadata": {
        "id": "K15-wQd2PXbR"
      },
      "source": [
        "def get_first_n_job_keys(n=10):\n",
        "  request_url = \"https://tw.indeed.com/jobs\"\n",
        "  first_n_job_keys = []\n",
        "  for i in range(0, n, 15):\n",
        "    query_string_parameters = {\n",
        "        'q': 'data analyst',\n",
        "        'l': '台北市',\n",
        "        'jt': 'fulltim',\n",
        "        'start': str(i)\n",
        "    }\n",
        "    response = requests.get(request_url, params=query_string_parameters)\n",
        "    soup = BeautifulSoup(response.text)\n",
        "    ref_routes = [e.get('href') for e in soup.select('.title a')]\n",
        "    job_keys = [re.split('/|\\?|&|=',rr)[4] for rr in ref_routes]\n",
        "    first_n_job_keys += job_keys\n",
        "    rand_int = randint(5, 10)\n",
        "    print(\"Scraping page{}...\".format(i // 10 + 1))\n",
        "    print(\"Sleeping for {} secs...\".format(rand_int))\n",
        "    time.sleep(rand_int)\n",
        "  return first_n_job_keys"
      ],
      "execution_count": null,
      "outputs": []
    },
    {
      "cell_type": "markdown",
      "metadata": {
        "id": "bPN_BMQ0cpvO"
      },
      "source": [
        "合併N個job keys 到一個python清單"
      ]
    },
    {
      "cell_type": "code",
      "metadata": {
        "id": "iDcZicoFcbPP"
      },
      "source": [
        "def get_indeed_job_descriptions(first_n_job_keys):\n",
        "  job_descriptions = []\n",
        "  for job_key in first_n_job_keys:\n",
        "    query_string_parameters = {\n",
        "        'jks':job_key\n",
        "    }\n",
        "    request_url = \"https://tw.indeed.com/rpc/jobdescs\"\n",
        "    response = requests.get(request_url, params=query_string_parameters)\n",
        "    response_json = response.json()\n",
        "    job_descriptions.append(response_json)\n",
        "    print(\"scraping job key: {}...\".format(job_key))\n",
        "    print(\"Sleeping for {} secs...\".format(rand_int))\n",
        "    time.sleep(rand_int)\n",
        "  return job_des "
      ],
      "execution_count": null,
      "outputs": []
    },
    {
      "cell_type": "code",
      "metadata": {
        "id": "4tZOqTTpRD5Q",
        "colab": {
          "base_uri": "https://localhost:8080/"
        },
        "outputId": "f6763906-4cc5-4760-94cc-ffa03f299dba"
      },
      "source": [
        "first_100_indeed_job_keys = get_first_n_job_keys()"
      ],
      "execution_count": null,
      "outputs": [
        {
          "output_type": "stream",
          "text": [
            "Scraping page1...\n",
            "Sleeping for 8 secs...\n"
          ],
          "name": "stdout"
        }
      ]
    },
    {
      "cell_type": "code",
      "metadata": {
        "id": "jWx7VMtBSZAU",
        "colab": {
          "base_uri": "https://localhost:8080/"
        },
        "outputId": "449b8e2b-58ef-4fde-9efa-fb42f7bdd7ff"
      },
      "source": [
        "print(len(first_100_indeed_job_keys))"
      ],
      "execution_count": null,
      "outputs": [
        {
          "output_type": "stream",
          "text": [
            "15\n"
          ],
          "name": "stdout"
        }
      ]
    },
    {
      "cell_type": "code",
      "metadata": {
        "id": "Q7GK0wD5Sw5y",
        "colab": {
          "base_uri": "https://localhost:8080/"
        },
        "outputId": "54f40c74-ceb4-4142-f8fa-461e62a24595"
      },
      "source": [
        "first_100_indeed_job_keys"
      ],
      "execution_count": null,
      "outputs": [
        {
          "output_type": "execute_result",
          "data": {
            "text/plain": [
              "['a853ccca9964ec9c',\n",
              " 'a1840a24e43b799a',\n",
              " 'b301fd0a953f5907',\n",
              " 'f2516e44971da2cd',\n",
              " 'e2c671ca26a1dca6',\n",
              " 'aad261cc4afe5eec',\n",
              " '1e114885337188c2',\n",
              " 'aa8d355553507804',\n",
              " '8ed54daed68bdb4b',\n",
              " '3411d2f954fded16',\n",
              " '43110abd5989fe84',\n",
              " '7b217d108ee3ee0f',\n",
              " '787239670619c5d0',\n",
              " 'fc8248c5adfec7bd',\n",
              " 'bff6ac3b8973facc']"
            ]
          },
          "metadata": {
            "tags": []
          },
          "execution_count": 8
        }
      ]
    },
    {
      "cell_type": "code",
      "metadata": {
        "id": "1sDb-uabJ60f"
      },
      "source": [
        ""
      ],
      "execution_count": null,
      "outputs": []
    },
    {
      "cell_type": "markdown",
      "metadata": {
        "id": "9KfQsx9C9o_S"
      },
      "source": [
        "# CakeResume \n"
      ]
    },
    {
      "cell_type": "code",
      "metadata": {
        "id": "pywc1GpzHFKZ",
        "colab": {
          "base_uri": "https://localhost:8080/"
        },
        "outputId": "9e3657ea-c326-4dee-c02a-81e859f9232c"
      },
      "source": [
        "request_url = \"https://www.cakeresume.com/jobs\"\n",
        "\n",
        "query_string_parameters = {\n",
        "    'q': 'data analyst',\n",
        "    'refinementList[location_list][0]': '台北',\n",
        "    'refinementList[job_type][0]': 'full_time',\n",
        "    'refinementList[seniority_level][0]': 'entry_level'\n",
        "}\n",
        "response = requests.get(request_url, params=query_string_parameters)\n",
        "print(response.status_code)"
      ],
      "execution_count": null,
      "outputs": [
        {
          "output_type": "stream",
          "text": [
            "200\n"
          ],
          "name": "stdout"
        }
      ]
    },
    {
      "cell_type": "code",
      "metadata": {
        "id": "CThkDOCoJELt",
        "colab": {
          "base_uri": "https://localhost:8080/"
        },
        "outputId": "c21043f1-4d61-4913-88e4-fdef71cd6d8f"
      },
      "source": [
        "soup = BeautifulSoup(response.text)\n",
        "job_links = [e.get('href') for e in soup.select('.job-link')]\n",
        "print(job_links)"
      ],
      "execution_count": null,
      "outputs": [
        {
          "output_type": "stream",
          "text": [
            "['https://www.cakeresume.com/companies/alpha-human-resource-consulting-co-ltd/jobs/017c5e', 'https://www.cakeresume.com/companies/shopee/jobs/shopee-app-data-analyst', 'https://www.cakeresume.com/companies/imaginex-index-php-tw-who-we-are-facts/jobs/data-analyst-the-lane-crawford-joyce-group', 'https://www.cakeresume.com/companies/popin-cc-zh-index-html/jobs/data-engineer-data-engineer', 'https://www.cakeresume.com/companies/sandline-discovery/jobs/data-processing-analyst-c781b8', 'https://www.cakeresume.com/companies/sandline-discovery/jobs/data-processing-support-analyst', 'https://www.cakeresume.com/companies/catchplay/jobs/product-analyst-ecb11a', 'https://www.cakeresume.com/companies/tsaitung/jobs/68eb7e', 'https://www.cakeresume.com/companies/oakda/jobs/senior-data-engineer-71eceb', 'https://www.cakeresume.com/companies/robert-walters/jobs/585bbb']\n"
          ],
          "name": "stdout"
        }
      ]
    },
    {
      "cell_type": "markdown",
      "metadata": {
        "id": "hGpQSwU1i_gr"
      },
      "source": [
        "##**網頁抓取**"
      ]
    },
    {
      "cell_type": "code",
      "metadata": {
        "id": "2lksEPUskxjC"
      },
      "source": [
        "import sys\n",
        "import re\n",
        "import time\n",
        "from random import randint\n",
        "import requests\n",
        "from bs4 import BeautifulSoup"
      ],
      "execution_count": null,
      "outputs": []
    },
    {
      "cell_type": "code",
      "metadata": {
        "id": "d14E-u2SjLIx"
      },
      "source": [
        "def get_first_n_page_job_links(n_pages=10):\n",
        "    request_url = \"https://www.cakeresume.com/jobs\"\n",
        "    first_n_job_links = []\n",
        "    for i in range(1, n_pages+1):\n",
        "        query_string_parameters = {\n",
        "            'q': 'data Analyst',\n",
        "            'refinementList[job_type][0]': 'full_time',\n",
        "            'refinementList[seniority_level][0]': 'entry_level',\n",
        "            'page':str(i)\n",
        "        }\n",
        "        response = requests.get(request_url, params=query_string_parameters)\n",
        "        soup = BeautifulSoup(response.text)\n",
        "        job_links = [e.get('href') for e in soup.select('.job-link')]\n",
        "        first_n_job_links += job_links\n",
        "        rand_int = randint(1,5)\n",
        "        print(\"Scraping page{}...\".format(i))\n",
        "        print(\"Sleeping for {} secs...\".format(rand_int))\n",
        "        time.sleep(rand_int)\n",
        "    return first_n_job_links"
      ],
      "execution_count": null,
      "outputs": []
    },
    {
      "cell_type": "code",
      "metadata": {
        "id": "yANf4zNdmyj_"
      },
      "source": [
        "def get_cr_job_descriptions(job_links):\n",
        "  job_descriptions = []\n",
        "  for job_link in job_links:\n",
        "    response = requests.get(job_link)\n",
        "    soup = BeautifulSoup(response.text)\n",
        "    job_desc_str=''\n",
        "    for e in soup.select(\".section\"):\n",
        "      job_desc_str += e.text\n",
        "    for i in job_desc_str:\n",
        "      if re.search(\"[\\u4e00-\\u9FFF]\", i) or not i.isascii():\n",
        "          job_desc_str = job_desc_str.replace(i,'')\n",
        "    job_description = {\n",
        "        job_link:job_desc_str\n",
        "    }\n",
        "    job_descriptions.append(job_description)\n",
        "    rand_int = randint(1,5)\n",
        "    print(\"Scraping page{}...\".format(job_link))\n",
        "    print(\"Sleeping for {} secs...\".format(rand_int))\n",
        "    time.sleep(randint)\n",
        "  return job_descirptions\n"
      ],
      "execution_count": null,
      "outputs": []
    },
    {
      "cell_type": "code",
      "metadata": {
        "id": "-cUIjR7vpzDs",
        "colab": {
          "base_uri": "https://localhost:8080/"
        },
        "outputId": "4ac62759-256d-45f9-a625-a524479ed8c4"
      },
      "source": [
        "first_10_page_job_links = get_first_n_page_job_links()"
      ],
      "execution_count": null,
      "outputs": [
        {
          "output_type": "stream",
          "text": [
            "Scraping page1...\n",
            "Sleeping for 5 secs...\n",
            "Scraping page2...\n",
            "Sleeping for 5 secs...\n",
            "Scraping page3...\n",
            "Sleeping for 1 secs...\n",
            "Scraping page4...\n",
            "Sleeping for 2 secs...\n",
            "Scraping page5...\n",
            "Sleeping for 1 secs...\n",
            "Scraping page6...\n",
            "Sleeping for 3 secs...\n",
            "Scraping page7...\n",
            "Sleeping for 3 secs...\n",
            "Scraping page8...\n",
            "Sleeping for 4 secs...\n",
            "Scraping page9...\n",
            "Sleeping for 4 secs...\n",
            "Scraping page10...\n",
            "Sleeping for 5 secs...\n"
          ],
          "name": "stdout"
        }
      ]
    },
    {
      "cell_type": "code",
      "metadata": {
        "id": "1tyju1tvsXPv",
        "colab": {
          "base_uri": "https://localhost:8080/"
        },
        "outputId": "e15c80df-3943-4227-ab87-2a06f3bab583"
      },
      "source": [
        "print(len(first_10_page_job_links))"
      ],
      "execution_count": null,
      "outputs": [
        {
          "output_type": "stream",
          "text": [
            "100\n"
          ],
          "name": "stdout"
        }
      ]
    },
    {
      "cell_type": "code",
      "metadata": {
        "id": "rRT6h78Zsb29",
        "colab": {
          "base_uri": "https://localhost:8080/",
          "height": 284
        },
        "outputId": "57c36ef7-8f10-476e-f98b-3a9b28450636"
      },
      "source": [
        "cr_job_descriptions = get_cr_job_descriptions(first_10_page_job_links)"
      ],
      "execution_count": null,
      "outputs": [
        {
          "output_type": "error",
          "ename": "AttributeError",
          "evalue": "ignored",
          "traceback": [
            "\u001b[0;31m---------------------------------------------------------------------------\u001b[0m",
            "\u001b[0;31mAttributeError\u001b[0m                            Traceback (most recent call last)",
            "\u001b[0;32m<ipython-input-6-6843976d88b0>\u001b[0m in \u001b[0;36m<module>\u001b[0;34m()\u001b[0m\n\u001b[0;32m----> 1\u001b[0;31m \u001b[0mcr_job_descriptions\u001b[0m \u001b[0;34m=\u001b[0m \u001b[0mget_cr_job_descriptions\u001b[0m\u001b[0;34m(\u001b[0m\u001b[0mfirst_10_page_job_links\u001b[0m\u001b[0;34m)\u001b[0m\u001b[0;34m\u001b[0m\u001b[0;34m\u001b[0m\u001b[0m\n\u001b[0m",
            "\u001b[0;32m<ipython-input-3-d1fd6aa2d697>\u001b[0m in \u001b[0;36mget_cr_job_descriptions\u001b[0;34m(job_links)\u001b[0m\n\u001b[1;32m      8\u001b[0m       \u001b[0mjob_desc_str\u001b[0m \u001b[0;34m+=\u001b[0m \u001b[0me\u001b[0m\u001b[0;34m.\u001b[0m\u001b[0mtext\u001b[0m\u001b[0;34m\u001b[0m\u001b[0;34m\u001b[0m\u001b[0m\n\u001b[1;32m      9\u001b[0m     \u001b[0;32mfor\u001b[0m \u001b[0mi\u001b[0m \u001b[0;32min\u001b[0m \u001b[0mjob_desc_str\u001b[0m\u001b[0;34m:\u001b[0m\u001b[0;34m\u001b[0m\u001b[0;34m\u001b[0m\u001b[0m\n\u001b[0;32m---> 10\u001b[0;31m       \u001b[0;32mif\u001b[0m \u001b[0mre\u001b[0m\u001b[0;34m.\u001b[0m\u001b[0msearch\u001b[0m\u001b[0;34m(\u001b[0m\u001b[0;34m\"[\\u4e00-\\u9FFF]\"\u001b[0m\u001b[0;34m,\u001b[0m \u001b[0mi\u001b[0m\u001b[0;34m)\u001b[0m \u001b[0;32mor\u001b[0m \u001b[0;32mnot\u001b[0m \u001b[0mi\u001b[0m\u001b[0;34m.\u001b[0m\u001b[0misascii\u001b[0m\u001b[0;34m(\u001b[0m\u001b[0;34m)\u001b[0m\u001b[0;34m:\u001b[0m\u001b[0;34m\u001b[0m\u001b[0;34m\u001b[0m\u001b[0m\n\u001b[0m\u001b[1;32m     11\u001b[0m           \u001b[0mjob_desc_str\u001b[0m \u001b[0;34m=\u001b[0m \u001b[0mjob_desc_str\u001b[0m\u001b[0;34m.\u001b[0m\u001b[0mreplace\u001b[0m\u001b[0;34m(\u001b[0m\u001b[0mi\u001b[0m\u001b[0;34m,\u001b[0m\u001b[0;34m''\u001b[0m\u001b[0;34m)\u001b[0m\u001b[0;34m\u001b[0m\u001b[0;34m\u001b[0m\u001b[0m\n\u001b[1;32m     12\u001b[0m     job_description = {\n",
            "\u001b[0;31mAttributeError\u001b[0m: 'str' object has no attribute 'isascii'"
          ]
        }
      ]
    },
    {
      "cell_type": "code",
      "metadata": {
        "id": "OXulUXEAsrmD"
      },
      "source": [
        ""
      ],
      "execution_count": null,
      "outputs": []
    }
  ]
}